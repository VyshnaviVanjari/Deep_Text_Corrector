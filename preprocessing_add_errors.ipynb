{
  "nbformat": 4,
  "nbformat_minor": 0,
  "metadata": {
    "kernelspec": {
      "name": "python3",
      "display_name": "Python 3"
    },
    "language_info": {
      "codemirror_mode": {
        "name": "ipython",
        "version": 3
      },
      "file_extension": ".py",
      "mimetype": "text/x-python",
      "name": "python",
      "nbconvert_exporter": "python",
      "pygments_lexer": "ipython3",
      "version": "3.6.8"
    },
    "colab": {
      "name": "deep_text_corrector_preprocessing_harry_potter.ipynb",
      "provenance": [],
      "collapsed_sections": [],
      "machine_shape": "hm"
    },
    "accelerator": "GPU",
    "widgets": {
      "application/vnd.jupyter.widget-state+json": {
        "6771cc9c838b4b6ab9edbfb2ed4d6e4e": {
          "model_module": "@jupyter-widgets/controls",
          "model_name": "HBoxModel",
          "state": {
            "_view_name": "HBoxView",
            "_dom_classes": [],
            "_model_name": "HBoxModel",
            "_view_module": "@jupyter-widgets/controls",
            "_model_module_version": "1.5.0",
            "_view_count": null,
            "_view_module_version": "1.5.0",
            "box_style": "",
            "layout": "IPY_MODEL_5e393e85cf6a434897ab982840067095",
            "_model_module": "@jupyter-widgets/controls",
            "children": [
              "IPY_MODEL_a5672acd4d9e42b89ca0c2759f1995f0",
              "IPY_MODEL_50ecdf2fb0da40f9b0268f02e18fd549"
            ]
          }
        },
        "5e393e85cf6a434897ab982840067095": {
          "model_module": "@jupyter-widgets/base",
          "model_name": "LayoutModel",
          "state": {
            "_view_name": "LayoutView",
            "grid_template_rows": null,
            "right": null,
            "justify_content": null,
            "_view_module": "@jupyter-widgets/base",
            "overflow": null,
            "_model_module_version": "1.2.0",
            "_view_count": null,
            "flex_flow": null,
            "width": null,
            "min_width": null,
            "border": null,
            "align_items": null,
            "bottom": null,
            "_model_module": "@jupyter-widgets/base",
            "top": null,
            "grid_column": null,
            "overflow_y": null,
            "overflow_x": null,
            "grid_auto_flow": null,
            "grid_area": null,
            "grid_template_columns": null,
            "flex": null,
            "_model_name": "LayoutModel",
            "justify_items": null,
            "grid_row": null,
            "max_height": null,
            "align_content": null,
            "visibility": null,
            "align_self": null,
            "height": null,
            "min_height": null,
            "padding": null,
            "grid_auto_rows": null,
            "grid_gap": null,
            "max_width": null,
            "order": null,
            "_view_module_version": "1.2.0",
            "grid_template_areas": null,
            "object_position": null,
            "object_fit": null,
            "grid_auto_columns": null,
            "margin": null,
            "display": null,
            "left": null
          }
        },
        "a5672acd4d9e42b89ca0c2759f1995f0": {
          "model_module": "@jupyter-widgets/controls",
          "model_name": "FloatProgressModel",
          "state": {
            "_view_name": "ProgressView",
            "style": "IPY_MODEL_0f954fc5099e4ecf8bdac87ffeca57f4",
            "_dom_classes": [],
            "description": "100%",
            "_model_name": "FloatProgressModel",
            "bar_style": "success",
            "max": 30960,
            "_view_module": "@jupyter-widgets/controls",
            "_model_module_version": "1.5.0",
            "value": 30960,
            "_view_count": null,
            "_view_module_version": "1.5.0",
            "orientation": "horizontal",
            "min": 0,
            "description_tooltip": null,
            "_model_module": "@jupyter-widgets/controls",
            "layout": "IPY_MODEL_a4f5c03f170d4ac98f818c640f6d4751"
          }
        },
        "50ecdf2fb0da40f9b0268f02e18fd549": {
          "model_module": "@jupyter-widgets/controls",
          "model_name": "HTMLModel",
          "state": {
            "_view_name": "HTMLView",
            "style": "IPY_MODEL_ea879a74fc154570a31cda05860126c9",
            "_dom_classes": [],
            "description": "",
            "_model_name": "HTMLModel",
            "placeholder": "​",
            "_view_module": "@jupyter-widgets/controls",
            "_model_module_version": "1.5.0",
            "value": " 30960/30960 [30:39&lt;00:00, 16.83it/s]",
            "_view_count": null,
            "_view_module_version": "1.5.0",
            "description_tooltip": null,
            "_model_module": "@jupyter-widgets/controls",
            "layout": "IPY_MODEL_c1a2f6262fed4aeb9b23e423bab48e19"
          }
        },
        "0f954fc5099e4ecf8bdac87ffeca57f4": {
          "model_module": "@jupyter-widgets/controls",
          "model_name": "ProgressStyleModel",
          "state": {
            "_view_name": "StyleView",
            "_model_name": "ProgressStyleModel",
            "description_width": "initial",
            "_view_module": "@jupyter-widgets/base",
            "_model_module_version": "1.5.0",
            "_view_count": null,
            "_view_module_version": "1.2.0",
            "bar_color": null,
            "_model_module": "@jupyter-widgets/controls"
          }
        },
        "a4f5c03f170d4ac98f818c640f6d4751": {
          "model_module": "@jupyter-widgets/base",
          "model_name": "LayoutModel",
          "state": {
            "_view_name": "LayoutView",
            "grid_template_rows": null,
            "right": null,
            "justify_content": null,
            "_view_module": "@jupyter-widgets/base",
            "overflow": null,
            "_model_module_version": "1.2.0",
            "_view_count": null,
            "flex_flow": null,
            "width": null,
            "min_width": null,
            "border": null,
            "align_items": null,
            "bottom": null,
            "_model_module": "@jupyter-widgets/base",
            "top": null,
            "grid_column": null,
            "overflow_y": null,
            "overflow_x": null,
            "grid_auto_flow": null,
            "grid_area": null,
            "grid_template_columns": null,
            "flex": null,
            "_model_name": "LayoutModel",
            "justify_items": null,
            "grid_row": null,
            "max_height": null,
            "align_content": null,
            "visibility": null,
            "align_self": null,
            "height": null,
            "min_height": null,
            "padding": null,
            "grid_auto_rows": null,
            "grid_gap": null,
            "max_width": null,
            "order": null,
            "_view_module_version": "1.2.0",
            "grid_template_areas": null,
            "object_position": null,
            "object_fit": null,
            "grid_auto_columns": null,
            "margin": null,
            "display": null,
            "left": null
          }
        },
        "ea879a74fc154570a31cda05860126c9": {
          "model_module": "@jupyter-widgets/controls",
          "model_name": "DescriptionStyleModel",
          "state": {
            "_view_name": "StyleView",
            "_model_name": "DescriptionStyleModel",
            "description_width": "",
            "_view_module": "@jupyter-widgets/base",
            "_model_module_version": "1.5.0",
            "_view_count": null,
            "_view_module_version": "1.2.0",
            "_model_module": "@jupyter-widgets/controls"
          }
        },
        "c1a2f6262fed4aeb9b23e423bab48e19": {
          "model_module": "@jupyter-widgets/base",
          "model_name": "LayoutModel",
          "state": {
            "_view_name": "LayoutView",
            "grid_template_rows": null,
            "right": null,
            "justify_content": null,
            "_view_module": "@jupyter-widgets/base",
            "overflow": null,
            "_model_module_version": "1.2.0",
            "_view_count": null,
            "flex_flow": null,
            "width": null,
            "min_width": null,
            "border": null,
            "align_items": null,
            "bottom": null,
            "_model_module": "@jupyter-widgets/base",
            "top": null,
            "grid_column": null,
            "overflow_y": null,
            "overflow_x": null,
            "grid_auto_flow": null,
            "grid_area": null,
            "grid_template_columns": null,
            "flex": null,
            "_model_name": "LayoutModel",
            "justify_items": null,
            "grid_row": null,
            "max_height": null,
            "align_content": null,
            "visibility": null,
            "align_self": null,
            "height": null,
            "min_height": null,
            "padding": null,
            "grid_auto_rows": null,
            "grid_gap": null,
            "max_width": null,
            "order": null,
            "_view_module_version": "1.2.0",
            "grid_template_areas": null,
            "object_position": null,
            "object_fit": null,
            "grid_auto_columns": null,
            "margin": null,
            "display": null,
            "left": null
          }
        },
        "5fd4b813ca634460b80ff61f7a4b4fab": {
          "model_module": "@jupyter-widgets/controls",
          "model_name": "HBoxModel",
          "state": {
            "_view_name": "HBoxView",
            "_dom_classes": [],
            "_model_name": "HBoxModel",
            "_view_module": "@jupyter-widgets/controls",
            "_model_module_version": "1.5.0",
            "_view_count": null,
            "_view_module_version": "1.5.0",
            "box_style": "",
            "layout": "IPY_MODEL_3b5b46f458224ae99eae00501e49568a",
            "_model_module": "@jupyter-widgets/controls",
            "children": [
              "IPY_MODEL_965f5d4befd9499d93842fb3755cd536",
              "IPY_MODEL_97e975fe1899435bb1e182460c693885"
            ]
          }
        },
        "3b5b46f458224ae99eae00501e49568a": {
          "model_module": "@jupyter-widgets/base",
          "model_name": "LayoutModel",
          "state": {
            "_view_name": "LayoutView",
            "grid_template_rows": null,
            "right": null,
            "justify_content": null,
            "_view_module": "@jupyter-widgets/base",
            "overflow": null,
            "_model_module_version": "1.2.0",
            "_view_count": null,
            "flex_flow": null,
            "width": null,
            "min_width": null,
            "border": null,
            "align_items": null,
            "bottom": null,
            "_model_module": "@jupyter-widgets/base",
            "top": null,
            "grid_column": null,
            "overflow_y": null,
            "overflow_x": null,
            "grid_auto_flow": null,
            "grid_area": null,
            "grid_template_columns": null,
            "flex": null,
            "_model_name": "LayoutModel",
            "justify_items": null,
            "grid_row": null,
            "max_height": null,
            "align_content": null,
            "visibility": null,
            "align_self": null,
            "height": null,
            "min_height": null,
            "padding": null,
            "grid_auto_rows": null,
            "grid_gap": null,
            "max_width": null,
            "order": null,
            "_view_module_version": "1.2.0",
            "grid_template_areas": null,
            "object_position": null,
            "object_fit": null,
            "grid_auto_columns": null,
            "margin": null,
            "display": null,
            "left": null
          }
        },
        "965f5d4befd9499d93842fb3755cd536": {
          "model_module": "@jupyter-widgets/controls",
          "model_name": "FloatProgressModel",
          "state": {
            "_view_name": "ProgressView",
            "style": "IPY_MODEL_61ac96a05ced4152a3e11211c1d0c880",
            "_dom_classes": [],
            "description": "100%",
            "_model_name": "FloatProgressModel",
            "bar_style": "success",
            "max": 30960,
            "_view_module": "@jupyter-widgets/controls",
            "_model_module_version": "1.5.0",
            "value": 30960,
            "_view_count": null,
            "_view_module_version": "1.5.0",
            "orientation": "horizontal",
            "min": 0,
            "description_tooltip": null,
            "_model_module": "@jupyter-widgets/controls",
            "layout": "IPY_MODEL_a0529539fd714bce9139687911a469fb"
          }
        },
        "97e975fe1899435bb1e182460c693885": {
          "model_module": "@jupyter-widgets/controls",
          "model_name": "HTMLModel",
          "state": {
            "_view_name": "HTMLView",
            "style": "IPY_MODEL_9750c5195b114367bf5a691368b8bdef",
            "_dom_classes": [],
            "description": "",
            "_model_name": "HTMLModel",
            "placeholder": "​",
            "_view_module": "@jupyter-widgets/controls",
            "_model_module_version": "1.5.0",
            "value": " 30960/30960 [12:18&lt;00:00, 41.93it/s]",
            "_view_count": null,
            "_view_module_version": "1.5.0",
            "description_tooltip": null,
            "_model_module": "@jupyter-widgets/controls",
            "layout": "IPY_MODEL_1276c2ca4a684f8580edaa032fd7c381"
          }
        },
        "61ac96a05ced4152a3e11211c1d0c880": {
          "model_module": "@jupyter-widgets/controls",
          "model_name": "ProgressStyleModel",
          "state": {
            "_view_name": "StyleView",
            "_model_name": "ProgressStyleModel",
            "description_width": "initial",
            "_view_module": "@jupyter-widgets/base",
            "_model_module_version": "1.5.0",
            "_view_count": null,
            "_view_module_version": "1.2.0",
            "bar_color": null,
            "_model_module": "@jupyter-widgets/controls"
          }
        },
        "a0529539fd714bce9139687911a469fb": {
          "model_module": "@jupyter-widgets/base",
          "model_name": "LayoutModel",
          "state": {
            "_view_name": "LayoutView",
            "grid_template_rows": null,
            "right": null,
            "justify_content": null,
            "_view_module": "@jupyter-widgets/base",
            "overflow": null,
            "_model_module_version": "1.2.0",
            "_view_count": null,
            "flex_flow": null,
            "width": null,
            "min_width": null,
            "border": null,
            "align_items": null,
            "bottom": null,
            "_model_module": "@jupyter-widgets/base",
            "top": null,
            "grid_column": null,
            "overflow_y": null,
            "overflow_x": null,
            "grid_auto_flow": null,
            "grid_area": null,
            "grid_template_columns": null,
            "flex": null,
            "_model_name": "LayoutModel",
            "justify_items": null,
            "grid_row": null,
            "max_height": null,
            "align_content": null,
            "visibility": null,
            "align_self": null,
            "height": null,
            "min_height": null,
            "padding": null,
            "grid_auto_rows": null,
            "grid_gap": null,
            "max_width": null,
            "order": null,
            "_view_module_version": "1.2.0",
            "grid_template_areas": null,
            "object_position": null,
            "object_fit": null,
            "grid_auto_columns": null,
            "margin": null,
            "display": null,
            "left": null
          }
        },
        "9750c5195b114367bf5a691368b8bdef": {
          "model_module": "@jupyter-widgets/controls",
          "model_name": "DescriptionStyleModel",
          "state": {
            "_view_name": "StyleView",
            "_model_name": "DescriptionStyleModel",
            "description_width": "",
            "_view_module": "@jupyter-widgets/base",
            "_model_module_version": "1.5.0",
            "_view_count": null,
            "_view_module_version": "1.2.0",
            "_model_module": "@jupyter-widgets/controls"
          }
        },
        "1276c2ca4a684f8580edaa032fd7c381": {
          "model_module": "@jupyter-widgets/base",
          "model_name": "LayoutModel",
          "state": {
            "_view_name": "LayoutView",
            "grid_template_rows": null,
            "right": null,
            "justify_content": null,
            "_view_module": "@jupyter-widgets/base",
            "overflow": null,
            "_model_module_version": "1.2.0",
            "_view_count": null,
            "flex_flow": null,
            "width": null,
            "min_width": null,
            "border": null,
            "align_items": null,
            "bottom": null,
            "_model_module": "@jupyter-widgets/base",
            "top": null,
            "grid_column": null,
            "overflow_y": null,
            "overflow_x": null,
            "grid_auto_flow": null,
            "grid_area": null,
            "grid_template_columns": null,
            "flex": null,
            "_model_name": "LayoutModel",
            "justify_items": null,
            "grid_row": null,
            "max_height": null,
            "align_content": null,
            "visibility": null,
            "align_self": null,
            "height": null,
            "min_height": null,
            "padding": null,
            "grid_auto_rows": null,
            "grid_gap": null,
            "max_width": null,
            "order": null,
            "_view_module_version": "1.2.0",
            "grid_template_areas": null,
            "object_position": null,
            "object_fit": null,
            "grid_auto_columns": null,
            "margin": null,
            "display": null,
            "left": null
          }
        },
        "62ce25b5b66746dbb683d4636b7ca193": {
          "model_module": "@jupyter-widgets/controls",
          "model_name": "HBoxModel",
          "state": {
            "_view_name": "HBoxView",
            "_dom_classes": [],
            "_model_name": "HBoxModel",
            "_view_module": "@jupyter-widgets/controls",
            "_model_module_version": "1.5.0",
            "_view_count": null,
            "_view_module_version": "1.5.0",
            "box_style": "",
            "layout": "IPY_MODEL_9c630332dfdf4b4dbc06361d75aee298",
            "_model_module": "@jupyter-widgets/controls",
            "children": [
              "IPY_MODEL_542b4d057eb84b9daf1227b94c2a4679",
              "IPY_MODEL_fd08f346dc1f4b9cb1253497068696df"
            ]
          }
        },
        "9c630332dfdf4b4dbc06361d75aee298": {
          "model_module": "@jupyter-widgets/base",
          "model_name": "LayoutModel",
          "state": {
            "_view_name": "LayoutView",
            "grid_template_rows": null,
            "right": null,
            "justify_content": null,
            "_view_module": "@jupyter-widgets/base",
            "overflow": null,
            "_model_module_version": "1.2.0",
            "_view_count": null,
            "flex_flow": null,
            "width": null,
            "min_width": null,
            "border": null,
            "align_items": null,
            "bottom": null,
            "_model_module": "@jupyter-widgets/base",
            "top": null,
            "grid_column": null,
            "overflow_y": null,
            "overflow_x": null,
            "grid_auto_flow": null,
            "grid_area": null,
            "grid_template_columns": null,
            "flex": null,
            "_model_name": "LayoutModel",
            "justify_items": null,
            "grid_row": null,
            "max_height": null,
            "align_content": null,
            "visibility": null,
            "align_self": null,
            "height": null,
            "min_height": null,
            "padding": null,
            "grid_auto_rows": null,
            "grid_gap": null,
            "max_width": null,
            "order": null,
            "_view_module_version": "1.2.0",
            "grid_template_areas": null,
            "object_position": null,
            "object_fit": null,
            "grid_auto_columns": null,
            "margin": null,
            "display": null,
            "left": null
          }
        },
        "542b4d057eb84b9daf1227b94c2a4679": {
          "model_module": "@jupyter-widgets/controls",
          "model_name": "FloatProgressModel",
          "state": {
            "_view_name": "ProgressView",
            "style": "IPY_MODEL_46da028435bf40a2b861bbe76740840c",
            "_dom_classes": [],
            "description": "100%",
            "_model_name": "FloatProgressModel",
            "bar_style": "success",
            "max": 30960,
            "_view_module": "@jupyter-widgets/controls",
            "_model_module_version": "1.5.0",
            "value": 30960,
            "_view_count": null,
            "_view_module_version": "1.5.0",
            "orientation": "horizontal",
            "min": 0,
            "description_tooltip": null,
            "_model_module": "@jupyter-widgets/controls",
            "layout": "IPY_MODEL_82b32f3068a547dbb5c9bb73eeb494a6"
          }
        },
        "fd08f346dc1f4b9cb1253497068696df": {
          "model_module": "@jupyter-widgets/controls",
          "model_name": "HTMLModel",
          "state": {
            "_view_name": "HTMLView",
            "style": "IPY_MODEL_5b86a2ac241044669c07f6c0f9c1e44e",
            "_dom_classes": [],
            "description": "",
            "_model_name": "HTMLModel",
            "placeholder": "​",
            "_view_module": "@jupyter-widgets/controls",
            "_model_module_version": "1.5.0",
            "value": " 30960/30960 [07:10&lt;00:00, 71.94it/s]",
            "_view_count": null,
            "_view_module_version": "1.5.0",
            "description_tooltip": null,
            "_model_module": "@jupyter-widgets/controls",
            "layout": "IPY_MODEL_146c812057bf4b478a1fb3c254507cec"
          }
        },
        "46da028435bf40a2b861bbe76740840c": {
          "model_module": "@jupyter-widgets/controls",
          "model_name": "ProgressStyleModel",
          "state": {
            "_view_name": "StyleView",
            "_model_name": "ProgressStyleModel",
            "description_width": "initial",
            "_view_module": "@jupyter-widgets/base",
            "_model_module_version": "1.5.0",
            "_view_count": null,
            "_view_module_version": "1.2.0",
            "bar_color": null,
            "_model_module": "@jupyter-widgets/controls"
          }
        },
        "82b32f3068a547dbb5c9bb73eeb494a6": {
          "model_module": "@jupyter-widgets/base",
          "model_name": "LayoutModel",
          "state": {
            "_view_name": "LayoutView",
            "grid_template_rows": null,
            "right": null,
            "justify_content": null,
            "_view_module": "@jupyter-widgets/base",
            "overflow": null,
            "_model_module_version": "1.2.0",
            "_view_count": null,
            "flex_flow": null,
            "width": null,
            "min_width": null,
            "border": null,
            "align_items": null,
            "bottom": null,
            "_model_module": "@jupyter-widgets/base",
            "top": null,
            "grid_column": null,
            "overflow_y": null,
            "overflow_x": null,
            "grid_auto_flow": null,
            "grid_area": null,
            "grid_template_columns": null,
            "flex": null,
            "_model_name": "LayoutModel",
            "justify_items": null,
            "grid_row": null,
            "max_height": null,
            "align_content": null,
            "visibility": null,
            "align_self": null,
            "height": null,
            "min_height": null,
            "padding": null,
            "grid_auto_rows": null,
            "grid_gap": null,
            "max_width": null,
            "order": null,
            "_view_module_version": "1.2.0",
            "grid_template_areas": null,
            "object_position": null,
            "object_fit": null,
            "grid_auto_columns": null,
            "margin": null,
            "display": null,
            "left": null
          }
        },
        "5b86a2ac241044669c07f6c0f9c1e44e": {
          "model_module": "@jupyter-widgets/controls",
          "model_name": "DescriptionStyleModel",
          "state": {
            "_view_name": "StyleView",
            "_model_name": "DescriptionStyleModel",
            "description_width": "",
            "_view_module": "@jupyter-widgets/base",
            "_model_module_version": "1.5.0",
            "_view_count": null,
            "_view_module_version": "1.2.0",
            "_model_module": "@jupyter-widgets/controls"
          }
        },
        "146c812057bf4b478a1fb3c254507cec": {
          "model_module": "@jupyter-widgets/base",
          "model_name": "LayoutModel",
          "state": {
            "_view_name": "LayoutView",
            "grid_template_rows": null,
            "right": null,
            "justify_content": null,
            "_view_module": "@jupyter-widgets/base",
            "overflow": null,
            "_model_module_version": "1.2.0",
            "_view_count": null,
            "flex_flow": null,
            "width": null,
            "min_width": null,
            "border": null,
            "align_items": null,
            "bottom": null,
            "_model_module": "@jupyter-widgets/base",
            "top": null,
            "grid_column": null,
            "overflow_y": null,
            "overflow_x": null,
            "grid_auto_flow": null,
            "grid_area": null,
            "grid_template_columns": null,
            "flex": null,
            "_model_name": "LayoutModel",
            "justify_items": null,
            "grid_row": null,
            "max_height": null,
            "align_content": null,
            "visibility": null,
            "align_self": null,
            "height": null,
            "min_height": null,
            "padding": null,
            "grid_auto_rows": null,
            "grid_gap": null,
            "max_width": null,
            "order": null,
            "_view_module_version": "1.2.0",
            "grid_template_areas": null,
            "object_position": null,
            "object_fit": null,
            "grid_auto_columns": null,
            "margin": null,
            "display": null,
            "left": null
          }
        },
        "c681d4c60083470ca87b554f36f8dfd4": {
          "model_module": "@jupyter-widgets/controls",
          "model_name": "HBoxModel",
          "state": {
            "_view_name": "HBoxView",
            "_dom_classes": [],
            "_model_name": "HBoxModel",
            "_view_module": "@jupyter-widgets/controls",
            "_model_module_version": "1.5.0",
            "_view_count": null,
            "_view_module_version": "1.5.0",
            "box_style": "",
            "layout": "IPY_MODEL_6d63c07961e54d9b9f51a4f45b9efb9a",
            "_model_module": "@jupyter-widgets/controls",
            "children": [
              "IPY_MODEL_0c3386767ada4d5bbe470564ca6fdff7",
              "IPY_MODEL_62087982de8447c792a78c63aef160f5"
            ]
          }
        },
        "6d63c07961e54d9b9f51a4f45b9efb9a": {
          "model_module": "@jupyter-widgets/base",
          "model_name": "LayoutModel",
          "state": {
            "_view_name": "LayoutView",
            "grid_template_rows": null,
            "right": null,
            "justify_content": null,
            "_view_module": "@jupyter-widgets/base",
            "overflow": null,
            "_model_module_version": "1.2.0",
            "_view_count": null,
            "flex_flow": null,
            "width": null,
            "min_width": null,
            "border": null,
            "align_items": null,
            "bottom": null,
            "_model_module": "@jupyter-widgets/base",
            "top": null,
            "grid_column": null,
            "overflow_y": null,
            "overflow_x": null,
            "grid_auto_flow": null,
            "grid_area": null,
            "grid_template_columns": null,
            "flex": null,
            "_model_name": "LayoutModel",
            "justify_items": null,
            "grid_row": null,
            "max_height": null,
            "align_content": null,
            "visibility": null,
            "align_self": null,
            "height": null,
            "min_height": null,
            "padding": null,
            "grid_auto_rows": null,
            "grid_gap": null,
            "max_width": null,
            "order": null,
            "_view_module_version": "1.2.0",
            "grid_template_areas": null,
            "object_position": null,
            "object_fit": null,
            "grid_auto_columns": null,
            "margin": null,
            "display": null,
            "left": null
          }
        },
        "0c3386767ada4d5bbe470564ca6fdff7": {
          "model_module": "@jupyter-widgets/controls",
          "model_name": "FloatProgressModel",
          "state": {
            "_view_name": "ProgressView",
            "style": "IPY_MODEL_1240db2e4f674cbc8976d1a81b1f34bf",
            "_dom_classes": [],
            "description": "100%",
            "_model_name": "FloatProgressModel",
            "bar_style": "success",
            "max": 7740,
            "_view_module": "@jupyter-widgets/controls",
            "_model_module_version": "1.5.0",
            "value": 7740,
            "_view_count": null,
            "_view_module_version": "1.5.0",
            "orientation": "horizontal",
            "min": 0,
            "description_tooltip": null,
            "_model_module": "@jupyter-widgets/controls",
            "layout": "IPY_MODEL_3b3054d9c8704be0aca81900a8259332"
          }
        },
        "62087982de8447c792a78c63aef160f5": {
          "model_module": "@jupyter-widgets/controls",
          "model_name": "HTMLModel",
          "state": {
            "_view_name": "HTMLView",
            "style": "IPY_MODEL_8872e61ad3e149d1a5fb65bd2d8842c9",
            "_dom_classes": [],
            "description": "",
            "_model_name": "HTMLModel",
            "placeholder": "​",
            "_view_module": "@jupyter-widgets/controls",
            "_model_module_version": "1.5.0",
            "value": " 7740/7740 [10:51&lt;00:00, 11.89it/s]",
            "_view_count": null,
            "_view_module_version": "1.5.0",
            "description_tooltip": null,
            "_model_module": "@jupyter-widgets/controls",
            "layout": "IPY_MODEL_aa43ca6eeebd47aa90203cb6d88a20dc"
          }
        },
        "1240db2e4f674cbc8976d1a81b1f34bf": {
          "model_module": "@jupyter-widgets/controls",
          "model_name": "ProgressStyleModel",
          "state": {
            "_view_name": "StyleView",
            "_model_name": "ProgressStyleModel",
            "description_width": "initial",
            "_view_module": "@jupyter-widgets/base",
            "_model_module_version": "1.5.0",
            "_view_count": null,
            "_view_module_version": "1.2.0",
            "bar_color": null,
            "_model_module": "@jupyter-widgets/controls"
          }
        },
        "3b3054d9c8704be0aca81900a8259332": {
          "model_module": "@jupyter-widgets/base",
          "model_name": "LayoutModel",
          "state": {
            "_view_name": "LayoutView",
            "grid_template_rows": null,
            "right": null,
            "justify_content": null,
            "_view_module": "@jupyter-widgets/base",
            "overflow": null,
            "_model_module_version": "1.2.0",
            "_view_count": null,
            "flex_flow": null,
            "width": null,
            "min_width": null,
            "border": null,
            "align_items": null,
            "bottom": null,
            "_model_module": "@jupyter-widgets/base",
            "top": null,
            "grid_column": null,
            "overflow_y": null,
            "overflow_x": null,
            "grid_auto_flow": null,
            "grid_area": null,
            "grid_template_columns": null,
            "flex": null,
            "_model_name": "LayoutModel",
            "justify_items": null,
            "grid_row": null,
            "max_height": null,
            "align_content": null,
            "visibility": null,
            "align_self": null,
            "height": null,
            "min_height": null,
            "padding": null,
            "grid_auto_rows": null,
            "grid_gap": null,
            "max_width": null,
            "order": null,
            "_view_module_version": "1.2.0",
            "grid_template_areas": null,
            "object_position": null,
            "object_fit": null,
            "grid_auto_columns": null,
            "margin": null,
            "display": null,
            "left": null
          }
        },
        "8872e61ad3e149d1a5fb65bd2d8842c9": {
          "model_module": "@jupyter-widgets/controls",
          "model_name": "DescriptionStyleModel",
          "state": {
            "_view_name": "StyleView",
            "_model_name": "DescriptionStyleModel",
            "description_width": "",
            "_view_module": "@jupyter-widgets/base",
            "_model_module_version": "1.5.0",
            "_view_count": null,
            "_view_module_version": "1.2.0",
            "_model_module": "@jupyter-widgets/controls"
          }
        },
        "aa43ca6eeebd47aa90203cb6d88a20dc": {
          "model_module": "@jupyter-widgets/base",
          "model_name": "LayoutModel",
          "state": {
            "_view_name": "LayoutView",
            "grid_template_rows": null,
            "right": null,
            "justify_content": null,
            "_view_module": "@jupyter-widgets/base",
            "overflow": null,
            "_model_module_version": "1.2.0",
            "_view_count": null,
            "flex_flow": null,
            "width": null,
            "min_width": null,
            "border": null,
            "align_items": null,
            "bottom": null,
            "_model_module": "@jupyter-widgets/base",
            "top": null,
            "grid_column": null,
            "overflow_y": null,
            "overflow_x": null,
            "grid_auto_flow": null,
            "grid_area": null,
            "grid_template_columns": null,
            "flex": null,
            "_model_name": "LayoutModel",
            "justify_items": null,
            "grid_row": null,
            "max_height": null,
            "align_content": null,
            "visibility": null,
            "align_self": null,
            "height": null,
            "min_height": null,
            "padding": null,
            "grid_auto_rows": null,
            "grid_gap": null,
            "max_width": null,
            "order": null,
            "_view_module_version": "1.2.0",
            "grid_template_areas": null,
            "object_position": null,
            "object_fit": null,
            "grid_auto_columns": null,
            "margin": null,
            "display": null,
            "left": null
          }
        },
        "6b1fee578bb84c9fa619f6a14b4a821f": {
          "model_module": "@jupyter-widgets/controls",
          "model_name": "HBoxModel",
          "state": {
            "_view_name": "HBoxView",
            "_dom_classes": [],
            "_model_name": "HBoxModel",
            "_view_module": "@jupyter-widgets/controls",
            "_model_module_version": "1.5.0",
            "_view_count": null,
            "_view_module_version": "1.5.0",
            "box_style": "",
            "layout": "IPY_MODEL_627ecac3ce9f4153bc2971ee7956d40c",
            "_model_module": "@jupyter-widgets/controls",
            "children": [
              "IPY_MODEL_3562339170294278b63f151adc9a9b5a",
              "IPY_MODEL_166d61ed0e8f4260a8255eb08abdf0ac"
            ]
          }
        },
        "627ecac3ce9f4153bc2971ee7956d40c": {
          "model_module": "@jupyter-widgets/base",
          "model_name": "LayoutModel",
          "state": {
            "_view_name": "LayoutView",
            "grid_template_rows": null,
            "right": null,
            "justify_content": null,
            "_view_module": "@jupyter-widgets/base",
            "overflow": null,
            "_model_module_version": "1.2.0",
            "_view_count": null,
            "flex_flow": null,
            "width": null,
            "min_width": null,
            "border": null,
            "align_items": null,
            "bottom": null,
            "_model_module": "@jupyter-widgets/base",
            "top": null,
            "grid_column": null,
            "overflow_y": null,
            "overflow_x": null,
            "grid_auto_flow": null,
            "grid_area": null,
            "grid_template_columns": null,
            "flex": null,
            "_model_name": "LayoutModel",
            "justify_items": null,
            "grid_row": null,
            "max_height": null,
            "align_content": null,
            "visibility": null,
            "align_self": null,
            "height": null,
            "min_height": null,
            "padding": null,
            "grid_auto_rows": null,
            "grid_gap": null,
            "max_width": null,
            "order": null,
            "_view_module_version": "1.2.0",
            "grid_template_areas": null,
            "object_position": null,
            "object_fit": null,
            "grid_auto_columns": null,
            "margin": null,
            "display": null,
            "left": null
          }
        },
        "3562339170294278b63f151adc9a9b5a": {
          "model_module": "@jupyter-widgets/controls",
          "model_name": "FloatProgressModel",
          "state": {
            "_view_name": "ProgressView",
            "style": "IPY_MODEL_777479d55c8b4de88960db9a948061dd",
            "_dom_classes": [],
            "description": "100%",
            "_model_name": "FloatProgressModel",
            "bar_style": "success",
            "max": 7740,
            "_view_module": "@jupyter-widgets/controls",
            "_model_module_version": "1.5.0",
            "value": 7740,
            "_view_count": null,
            "_view_module_version": "1.5.0",
            "orientation": "horizontal",
            "min": 0,
            "description_tooltip": null,
            "_model_module": "@jupyter-widgets/controls",
            "layout": "IPY_MODEL_435953602bad42c5999b06a62a314d71"
          }
        },
        "166d61ed0e8f4260a8255eb08abdf0ac": {
          "model_module": "@jupyter-widgets/controls",
          "model_name": "HTMLModel",
          "state": {
            "_view_name": "HTMLView",
            "style": "IPY_MODEL_dc44df6c561d45f79749e7726fd2ba78",
            "_dom_classes": [],
            "description": "",
            "_model_name": "HTMLModel",
            "placeholder": "​",
            "_view_module": "@jupyter-widgets/controls",
            "_model_module_version": "1.5.0",
            "value": " 7740/7740 [03:41&lt;00:00, 34.94it/s]",
            "_view_count": null,
            "_view_module_version": "1.5.0",
            "description_tooltip": null,
            "_model_module": "@jupyter-widgets/controls",
            "layout": "IPY_MODEL_251df0446a114c968989dd95356c2c8f"
          }
        },
        "777479d55c8b4de88960db9a948061dd": {
          "model_module": "@jupyter-widgets/controls",
          "model_name": "ProgressStyleModel",
          "state": {
            "_view_name": "StyleView",
            "_model_name": "ProgressStyleModel",
            "description_width": "initial",
            "_view_module": "@jupyter-widgets/base",
            "_model_module_version": "1.5.0",
            "_view_count": null,
            "_view_module_version": "1.2.0",
            "bar_color": null,
            "_model_module": "@jupyter-widgets/controls"
          }
        },
        "435953602bad42c5999b06a62a314d71": {
          "model_module": "@jupyter-widgets/base",
          "model_name": "LayoutModel",
          "state": {
            "_view_name": "LayoutView",
            "grid_template_rows": null,
            "right": null,
            "justify_content": null,
            "_view_module": "@jupyter-widgets/base",
            "overflow": null,
            "_model_module_version": "1.2.0",
            "_view_count": null,
            "flex_flow": null,
            "width": null,
            "min_width": null,
            "border": null,
            "align_items": null,
            "bottom": null,
            "_model_module": "@jupyter-widgets/base",
            "top": null,
            "grid_column": null,
            "overflow_y": null,
            "overflow_x": null,
            "grid_auto_flow": null,
            "grid_area": null,
            "grid_template_columns": null,
            "flex": null,
            "_model_name": "LayoutModel",
            "justify_items": null,
            "grid_row": null,
            "max_height": null,
            "align_content": null,
            "visibility": null,
            "align_self": null,
            "height": null,
            "min_height": null,
            "padding": null,
            "grid_auto_rows": null,
            "grid_gap": null,
            "max_width": null,
            "order": null,
            "_view_module_version": "1.2.0",
            "grid_template_areas": null,
            "object_position": null,
            "object_fit": null,
            "grid_auto_columns": null,
            "margin": null,
            "display": null,
            "left": null
          }
        },
        "dc44df6c561d45f79749e7726fd2ba78": {
          "model_module": "@jupyter-widgets/controls",
          "model_name": "DescriptionStyleModel",
          "state": {
            "_view_name": "StyleView",
            "_model_name": "DescriptionStyleModel",
            "description_width": "",
            "_view_module": "@jupyter-widgets/base",
            "_model_module_version": "1.5.0",
            "_view_count": null,
            "_view_module_version": "1.2.0",
            "_model_module": "@jupyter-widgets/controls"
          }
        },
        "251df0446a114c968989dd95356c2c8f": {
          "model_module": "@jupyter-widgets/base",
          "model_name": "LayoutModel",
          "state": {
            "_view_name": "LayoutView",
            "grid_template_rows": null,
            "right": null,
            "justify_content": null,
            "_view_module": "@jupyter-widgets/base",
            "overflow": null,
            "_model_module_version": "1.2.0",
            "_view_count": null,
            "flex_flow": null,
            "width": null,
            "min_width": null,
            "border": null,
            "align_items": null,
            "bottom": null,
            "_model_module": "@jupyter-widgets/base",
            "top": null,
            "grid_column": null,
            "overflow_y": null,
            "overflow_x": null,
            "grid_auto_flow": null,
            "grid_area": null,
            "grid_template_columns": null,
            "flex": null,
            "_model_name": "LayoutModel",
            "justify_items": null,
            "grid_row": null,
            "max_height": null,
            "align_content": null,
            "visibility": null,
            "align_self": null,
            "height": null,
            "min_height": null,
            "padding": null,
            "grid_auto_rows": null,
            "grid_gap": null,
            "max_width": null,
            "order": null,
            "_view_module_version": "1.2.0",
            "grid_template_areas": null,
            "object_position": null,
            "object_fit": null,
            "grid_auto_columns": null,
            "margin": null,
            "display": null,
            "left": null
          }
        },
        "6739f2ab85ab4949948441b60f77c18b": {
          "model_module": "@jupyter-widgets/controls",
          "model_name": "HBoxModel",
          "state": {
            "_view_name": "HBoxView",
            "_dom_classes": [],
            "_model_name": "HBoxModel",
            "_view_module": "@jupyter-widgets/controls",
            "_model_module_version": "1.5.0",
            "_view_count": null,
            "_view_module_version": "1.5.0",
            "box_style": "",
            "layout": "IPY_MODEL_ff61f68ac3454283bfe31e387f859522",
            "_model_module": "@jupyter-widgets/controls",
            "children": [
              "IPY_MODEL_aff03949729d4402b55a350198a92e5c",
              "IPY_MODEL_3f3fe14c7d864b7c8279e9c96323bec2"
            ]
          }
        },
        "ff61f68ac3454283bfe31e387f859522": {
          "model_module": "@jupyter-widgets/base",
          "model_name": "LayoutModel",
          "state": {
            "_view_name": "LayoutView",
            "grid_template_rows": null,
            "right": null,
            "justify_content": null,
            "_view_module": "@jupyter-widgets/base",
            "overflow": null,
            "_model_module_version": "1.2.0",
            "_view_count": null,
            "flex_flow": null,
            "width": null,
            "min_width": null,
            "border": null,
            "align_items": null,
            "bottom": null,
            "_model_module": "@jupyter-widgets/base",
            "top": null,
            "grid_column": null,
            "overflow_y": null,
            "overflow_x": null,
            "grid_auto_flow": null,
            "grid_area": null,
            "grid_template_columns": null,
            "flex": null,
            "_model_name": "LayoutModel",
            "justify_items": null,
            "grid_row": null,
            "max_height": null,
            "align_content": null,
            "visibility": null,
            "align_self": null,
            "height": null,
            "min_height": null,
            "padding": null,
            "grid_auto_rows": null,
            "grid_gap": null,
            "max_width": null,
            "order": null,
            "_view_module_version": "1.2.0",
            "grid_template_areas": null,
            "object_position": null,
            "object_fit": null,
            "grid_auto_columns": null,
            "margin": null,
            "display": null,
            "left": null
          }
        },
        "aff03949729d4402b55a350198a92e5c": {
          "model_module": "@jupyter-widgets/controls",
          "model_name": "FloatProgressModel",
          "state": {
            "_view_name": "ProgressView",
            "style": "IPY_MODEL_1abbe661afee4e949e711b7c22d17a1f",
            "_dom_classes": [],
            "description": "100%",
            "_model_name": "FloatProgressModel",
            "bar_style": "success",
            "max": 7740,
            "_view_module": "@jupyter-widgets/controls",
            "_model_module_version": "1.5.0",
            "value": 7740,
            "_view_count": null,
            "_view_module_version": "1.5.0",
            "orientation": "horizontal",
            "min": 0,
            "description_tooltip": null,
            "_model_module": "@jupyter-widgets/controls",
            "layout": "IPY_MODEL_17ffe0ff03f046469496ed3a0182d356"
          }
        },
        "3f3fe14c7d864b7c8279e9c96323bec2": {
          "model_module": "@jupyter-widgets/controls",
          "model_name": "HTMLModel",
          "state": {
            "_view_name": "HTMLView",
            "style": "IPY_MODEL_8e1a0c2f1d274190bc174f912c5c878a",
            "_dom_classes": [],
            "description": "",
            "_model_name": "HTMLModel",
            "placeholder": "​",
            "_view_module": "@jupyter-widgets/controls",
            "_model_module_version": "1.5.0",
            "value": " 7740/7740 [02:25&lt;00:00, 53.32it/s]",
            "_view_count": null,
            "_view_module_version": "1.5.0",
            "description_tooltip": null,
            "_model_module": "@jupyter-widgets/controls",
            "layout": "IPY_MODEL_28dda985caec4f04810970b73d5b55e8"
          }
        },
        "1abbe661afee4e949e711b7c22d17a1f": {
          "model_module": "@jupyter-widgets/controls",
          "model_name": "ProgressStyleModel",
          "state": {
            "_view_name": "StyleView",
            "_model_name": "ProgressStyleModel",
            "description_width": "initial",
            "_view_module": "@jupyter-widgets/base",
            "_model_module_version": "1.5.0",
            "_view_count": null,
            "_view_module_version": "1.2.0",
            "bar_color": null,
            "_model_module": "@jupyter-widgets/controls"
          }
        },
        "17ffe0ff03f046469496ed3a0182d356": {
          "model_module": "@jupyter-widgets/base",
          "model_name": "LayoutModel",
          "state": {
            "_view_name": "LayoutView",
            "grid_template_rows": null,
            "right": null,
            "justify_content": null,
            "_view_module": "@jupyter-widgets/base",
            "overflow": null,
            "_model_module_version": "1.2.0",
            "_view_count": null,
            "flex_flow": null,
            "width": null,
            "min_width": null,
            "border": null,
            "align_items": null,
            "bottom": null,
            "_model_module": "@jupyter-widgets/base",
            "top": null,
            "grid_column": null,
            "overflow_y": null,
            "overflow_x": null,
            "grid_auto_flow": null,
            "grid_area": null,
            "grid_template_columns": null,
            "flex": null,
            "_model_name": "LayoutModel",
            "justify_items": null,
            "grid_row": null,
            "max_height": null,
            "align_content": null,
            "visibility": null,
            "align_self": null,
            "height": null,
            "min_height": null,
            "padding": null,
            "grid_auto_rows": null,
            "grid_gap": null,
            "max_width": null,
            "order": null,
            "_view_module_version": "1.2.0",
            "grid_template_areas": null,
            "object_position": null,
            "object_fit": null,
            "grid_auto_columns": null,
            "margin": null,
            "display": null,
            "left": null
          }
        },
        "8e1a0c2f1d274190bc174f912c5c878a": {
          "model_module": "@jupyter-widgets/controls",
          "model_name": "DescriptionStyleModel",
          "state": {
            "_view_name": "StyleView",
            "_model_name": "DescriptionStyleModel",
            "description_width": "",
            "_view_module": "@jupyter-widgets/base",
            "_model_module_version": "1.5.0",
            "_view_count": null,
            "_view_module_version": "1.2.0",
            "_model_module": "@jupyter-widgets/controls"
          }
        },
        "28dda985caec4f04810970b73d5b55e8": {
          "model_module": "@jupyter-widgets/base",
          "model_name": "LayoutModel",
          "state": {
            "_view_name": "LayoutView",
            "grid_template_rows": null,
            "right": null,
            "justify_content": null,
            "_view_module": "@jupyter-widgets/base",
            "overflow": null,
            "_model_module_version": "1.2.0",
            "_view_count": null,
            "flex_flow": null,
            "width": null,
            "min_width": null,
            "border": null,
            "align_items": null,
            "bottom": null,
            "_model_module": "@jupyter-widgets/base",
            "top": null,
            "grid_column": null,
            "overflow_y": null,
            "overflow_x": null,
            "grid_auto_flow": null,
            "grid_area": null,
            "grid_template_columns": null,
            "flex": null,
            "_model_name": "LayoutModel",
            "justify_items": null,
            "grid_row": null,
            "max_height": null,
            "align_content": null,
            "visibility": null,
            "align_self": null,
            "height": null,
            "min_height": null,
            "padding": null,
            "grid_auto_rows": null,
            "grid_gap": null,
            "max_width": null,
            "order": null,
            "_view_module_version": "1.2.0",
            "grid_template_areas": null,
            "object_position": null,
            "object_fit": null,
            "grid_auto_columns": null,
            "margin": null,
            "display": null,
            "left": null
          }
        },
        "07d90b39fd994607a3cebb812ac8b73f": {
          "model_module": "@jupyter-widgets/controls",
          "model_name": "HBoxModel",
          "state": {
            "_view_name": "HBoxView",
            "_dom_classes": [],
            "_model_name": "HBoxModel",
            "_view_module": "@jupyter-widgets/controls",
            "_model_module_version": "1.5.0",
            "_view_count": null,
            "_view_module_version": "1.5.0",
            "box_style": "",
            "layout": "IPY_MODEL_433828d28b634381bd054835e05c323d",
            "_model_module": "@jupyter-widgets/controls",
            "children": [
              "IPY_MODEL_6d4ba3b181a24cd28f43e7294db330e2",
              "IPY_MODEL_11943c82c83441b99661a6b4c7b4aa04"
            ]
          }
        },
        "433828d28b634381bd054835e05c323d": {
          "model_module": "@jupyter-widgets/base",
          "model_name": "LayoutModel",
          "state": {
            "_view_name": "LayoutView",
            "grid_template_rows": null,
            "right": null,
            "justify_content": null,
            "_view_module": "@jupyter-widgets/base",
            "overflow": null,
            "_model_module_version": "1.2.0",
            "_view_count": null,
            "flex_flow": null,
            "width": null,
            "min_width": null,
            "border": null,
            "align_items": null,
            "bottom": null,
            "_model_module": "@jupyter-widgets/base",
            "top": null,
            "grid_column": null,
            "overflow_y": null,
            "overflow_x": null,
            "grid_auto_flow": null,
            "grid_area": null,
            "grid_template_columns": null,
            "flex": null,
            "_model_name": "LayoutModel",
            "justify_items": null,
            "grid_row": null,
            "max_height": null,
            "align_content": null,
            "visibility": null,
            "align_self": null,
            "height": null,
            "min_height": null,
            "padding": null,
            "grid_auto_rows": null,
            "grid_gap": null,
            "max_width": null,
            "order": null,
            "_view_module_version": "1.2.0",
            "grid_template_areas": null,
            "object_position": null,
            "object_fit": null,
            "grid_auto_columns": null,
            "margin": null,
            "display": null,
            "left": null
          }
        },
        "6d4ba3b181a24cd28f43e7294db330e2": {
          "model_module": "@jupyter-widgets/controls",
          "model_name": "FloatProgressModel",
          "state": {
            "_view_name": "ProgressView",
            "style": "IPY_MODEL_ff610f3dd388440783578d0ed4caf7c5",
            "_dom_classes": [],
            "description": "100%",
            "_model_name": "FloatProgressModel",
            "bar_style": "success",
            "max": 9676,
            "_view_module": "@jupyter-widgets/controls",
            "_model_module_version": "1.5.0",
            "value": 9676,
            "_view_count": null,
            "_view_module_version": "1.5.0",
            "orientation": "horizontal",
            "min": 0,
            "description_tooltip": null,
            "_model_module": "@jupyter-widgets/controls",
            "layout": "IPY_MODEL_c1df995133fe4a37a87c9754ac3f45a1"
          }
        },
        "11943c82c83441b99661a6b4c7b4aa04": {
          "model_module": "@jupyter-widgets/controls",
          "model_name": "HTMLModel",
          "state": {
            "_view_name": "HTMLView",
            "style": "IPY_MODEL_5fc0e2f78bc14de6bd409c412d1f172b",
            "_dom_classes": [],
            "description": "",
            "_model_name": "HTMLModel",
            "placeholder": "​",
            "_view_module": "@jupyter-widgets/controls",
            "_model_module_version": "1.5.0",
            "value": " 9676/9676 [35:23&lt;00:00,  4.56it/s]",
            "_view_count": null,
            "_view_module_version": "1.5.0",
            "description_tooltip": null,
            "_model_module": "@jupyter-widgets/controls",
            "layout": "IPY_MODEL_33114019a6b54117a4f74dce200f07eb"
          }
        },
        "ff610f3dd388440783578d0ed4caf7c5": {
          "model_module": "@jupyter-widgets/controls",
          "model_name": "ProgressStyleModel",
          "state": {
            "_view_name": "StyleView",
            "_model_name": "ProgressStyleModel",
            "description_width": "initial",
            "_view_module": "@jupyter-widgets/base",
            "_model_module_version": "1.5.0",
            "_view_count": null,
            "_view_module_version": "1.2.0",
            "bar_color": null,
            "_model_module": "@jupyter-widgets/controls"
          }
        },
        "c1df995133fe4a37a87c9754ac3f45a1": {
          "model_module": "@jupyter-widgets/base",
          "model_name": "LayoutModel",
          "state": {
            "_view_name": "LayoutView",
            "grid_template_rows": null,
            "right": null,
            "justify_content": null,
            "_view_module": "@jupyter-widgets/base",
            "overflow": null,
            "_model_module_version": "1.2.0",
            "_view_count": null,
            "flex_flow": null,
            "width": null,
            "min_width": null,
            "border": null,
            "align_items": null,
            "bottom": null,
            "_model_module": "@jupyter-widgets/base",
            "top": null,
            "grid_column": null,
            "overflow_y": null,
            "overflow_x": null,
            "grid_auto_flow": null,
            "grid_area": null,
            "grid_template_columns": null,
            "flex": null,
            "_model_name": "LayoutModel",
            "justify_items": null,
            "grid_row": null,
            "max_height": null,
            "align_content": null,
            "visibility": null,
            "align_self": null,
            "height": null,
            "min_height": null,
            "padding": null,
            "grid_auto_rows": null,
            "grid_gap": null,
            "max_width": null,
            "order": null,
            "_view_module_version": "1.2.0",
            "grid_template_areas": null,
            "object_position": null,
            "object_fit": null,
            "grid_auto_columns": null,
            "margin": null,
            "display": null,
            "left": null
          }
        },
        "5fc0e2f78bc14de6bd409c412d1f172b": {
          "model_module": "@jupyter-widgets/controls",
          "model_name": "DescriptionStyleModel",
          "state": {
            "_view_name": "StyleView",
            "_model_name": "DescriptionStyleModel",
            "description_width": "",
            "_view_module": "@jupyter-widgets/base",
            "_model_module_version": "1.5.0",
            "_view_count": null,
            "_view_module_version": "1.2.0",
            "_model_module": "@jupyter-widgets/controls"
          }
        },
        "33114019a6b54117a4f74dce200f07eb": {
          "model_module": "@jupyter-widgets/base",
          "model_name": "LayoutModel",
          "state": {
            "_view_name": "LayoutView",
            "grid_template_rows": null,
            "right": null,
            "justify_content": null,
            "_view_module": "@jupyter-widgets/base",
            "overflow": null,
            "_model_module_version": "1.2.0",
            "_view_count": null,
            "flex_flow": null,
            "width": null,
            "min_width": null,
            "border": null,
            "align_items": null,
            "bottom": null,
            "_model_module": "@jupyter-widgets/base",
            "top": null,
            "grid_column": null,
            "overflow_y": null,
            "overflow_x": null,
            "grid_auto_flow": null,
            "grid_area": null,
            "grid_template_columns": null,
            "flex": null,
            "_model_name": "LayoutModel",
            "justify_items": null,
            "grid_row": null,
            "max_height": null,
            "align_content": null,
            "visibility": null,
            "align_self": null,
            "height": null,
            "min_height": null,
            "padding": null,
            "grid_auto_rows": null,
            "grid_gap": null,
            "max_width": null,
            "order": null,
            "_view_module_version": "1.2.0",
            "grid_template_areas": null,
            "object_position": null,
            "object_fit": null,
            "grid_auto_columns": null,
            "margin": null,
            "display": null,
            "left": null
          }
        },
        "277e772c08ea47aeb8dde8151e631b4d": {
          "model_module": "@jupyter-widgets/controls",
          "model_name": "HBoxModel",
          "state": {
            "_view_name": "HBoxView",
            "_dom_classes": [],
            "_model_name": "HBoxModel",
            "_view_module": "@jupyter-widgets/controls",
            "_model_module_version": "1.5.0",
            "_view_count": null,
            "_view_module_version": "1.5.0",
            "box_style": "",
            "layout": "IPY_MODEL_b1d6c0095267462db7fcd1a1fe75b6b2",
            "_model_module": "@jupyter-widgets/controls",
            "children": [
              "IPY_MODEL_a9b00b9f6a69468593757e3bcfc3aa0f",
              "IPY_MODEL_1d9caa82937640588a311b60c13b5a87"
            ]
          }
        },
        "b1d6c0095267462db7fcd1a1fe75b6b2": {
          "model_module": "@jupyter-widgets/base",
          "model_name": "LayoutModel",
          "state": {
            "_view_name": "LayoutView",
            "grid_template_rows": null,
            "right": null,
            "justify_content": null,
            "_view_module": "@jupyter-widgets/base",
            "overflow": null,
            "_model_module_version": "1.2.0",
            "_view_count": null,
            "flex_flow": null,
            "width": null,
            "min_width": null,
            "border": null,
            "align_items": null,
            "bottom": null,
            "_model_module": "@jupyter-widgets/base",
            "top": null,
            "grid_column": null,
            "overflow_y": null,
            "overflow_x": null,
            "grid_auto_flow": null,
            "grid_area": null,
            "grid_template_columns": null,
            "flex": null,
            "_model_name": "LayoutModel",
            "justify_items": null,
            "grid_row": null,
            "max_height": null,
            "align_content": null,
            "visibility": null,
            "align_self": null,
            "height": null,
            "min_height": null,
            "padding": null,
            "grid_auto_rows": null,
            "grid_gap": null,
            "max_width": null,
            "order": null,
            "_view_module_version": "1.2.0",
            "grid_template_areas": null,
            "object_position": null,
            "object_fit": null,
            "grid_auto_columns": null,
            "margin": null,
            "display": null,
            "left": null
          }
        },
        "a9b00b9f6a69468593757e3bcfc3aa0f": {
          "model_module": "@jupyter-widgets/controls",
          "model_name": "FloatProgressModel",
          "state": {
            "_view_name": "ProgressView",
            "style": "IPY_MODEL_d956cef4368745bfba40bb749274c84c",
            "_dom_classes": [],
            "description": "100%",
            "_model_name": "FloatProgressModel",
            "bar_style": "success",
            "max": 9676,
            "_view_module": "@jupyter-widgets/controls",
            "_model_module_version": "1.5.0",
            "value": 9676,
            "_view_count": null,
            "_view_module_version": "1.5.0",
            "orientation": "horizontal",
            "min": 0,
            "description_tooltip": null,
            "_model_module": "@jupyter-widgets/controls",
            "layout": "IPY_MODEL_39142de396ac4bde8d85ae10a4708eaa"
          }
        },
        "1d9caa82937640588a311b60c13b5a87": {
          "model_module": "@jupyter-widgets/controls",
          "model_name": "HTMLModel",
          "state": {
            "_view_name": "HTMLView",
            "style": "IPY_MODEL_731f3f0d06794ed9b13ab4a368eb8f97",
            "_dom_classes": [],
            "description": "",
            "_model_name": "HTMLModel",
            "placeholder": "​",
            "_view_module": "@jupyter-widgets/controls",
            "_model_module_version": "1.5.0",
            "value": " 9676/9676 [26:19&lt;00:00,  6.13it/s]",
            "_view_count": null,
            "_view_module_version": "1.5.0",
            "description_tooltip": null,
            "_model_module": "@jupyter-widgets/controls",
            "layout": "IPY_MODEL_b42b1190f53e4208a802ecc253c179ba"
          }
        },
        "d956cef4368745bfba40bb749274c84c": {
          "model_module": "@jupyter-widgets/controls",
          "model_name": "ProgressStyleModel",
          "state": {
            "_view_name": "StyleView",
            "_model_name": "ProgressStyleModel",
            "description_width": "initial",
            "_view_module": "@jupyter-widgets/base",
            "_model_module_version": "1.5.0",
            "_view_count": null,
            "_view_module_version": "1.2.0",
            "bar_color": null,
            "_model_module": "@jupyter-widgets/controls"
          }
        },
        "39142de396ac4bde8d85ae10a4708eaa": {
          "model_module": "@jupyter-widgets/base",
          "model_name": "LayoutModel",
          "state": {
            "_view_name": "LayoutView",
            "grid_template_rows": null,
            "right": null,
            "justify_content": null,
            "_view_module": "@jupyter-widgets/base",
            "overflow": null,
            "_model_module_version": "1.2.0",
            "_view_count": null,
            "flex_flow": null,
            "width": null,
            "min_width": null,
            "border": null,
            "align_items": null,
            "bottom": null,
            "_model_module": "@jupyter-widgets/base",
            "top": null,
            "grid_column": null,
            "overflow_y": null,
            "overflow_x": null,
            "grid_auto_flow": null,
            "grid_area": null,
            "grid_template_columns": null,
            "flex": null,
            "_model_name": "LayoutModel",
            "justify_items": null,
            "grid_row": null,
            "max_height": null,
            "align_content": null,
            "visibility": null,
            "align_self": null,
            "height": null,
            "min_height": null,
            "padding": null,
            "grid_auto_rows": null,
            "grid_gap": null,
            "max_width": null,
            "order": null,
            "_view_module_version": "1.2.0",
            "grid_template_areas": null,
            "object_position": null,
            "object_fit": null,
            "grid_auto_columns": null,
            "margin": null,
            "display": null,
            "left": null
          }
        },
        "731f3f0d06794ed9b13ab4a368eb8f97": {
          "model_module": "@jupyter-widgets/controls",
          "model_name": "DescriptionStyleModel",
          "state": {
            "_view_name": "StyleView",
            "_model_name": "DescriptionStyleModel",
            "description_width": "",
            "_view_module": "@jupyter-widgets/base",
            "_model_module_version": "1.5.0",
            "_view_count": null,
            "_view_module_version": "1.2.0",
            "_model_module": "@jupyter-widgets/controls"
          }
        },
        "b42b1190f53e4208a802ecc253c179ba": {
          "model_module": "@jupyter-widgets/base",
          "model_name": "LayoutModel",
          "state": {
            "_view_name": "LayoutView",
            "grid_template_rows": null,
            "right": null,
            "justify_content": null,
            "_view_module": "@jupyter-widgets/base",
            "overflow": null,
            "_model_module_version": "1.2.0",
            "_view_count": null,
            "flex_flow": null,
            "width": null,
            "min_width": null,
            "border": null,
            "align_items": null,
            "bottom": null,
            "_model_module": "@jupyter-widgets/base",
            "top": null,
            "grid_column": null,
            "overflow_y": null,
            "overflow_x": null,
            "grid_auto_flow": null,
            "grid_area": null,
            "grid_template_columns": null,
            "flex": null,
            "_model_name": "LayoutModel",
            "justify_items": null,
            "grid_row": null,
            "max_height": null,
            "align_content": null,
            "visibility": null,
            "align_self": null,
            "height": null,
            "min_height": null,
            "padding": null,
            "grid_auto_rows": null,
            "grid_gap": null,
            "max_width": null,
            "order": null,
            "_view_module_version": "1.2.0",
            "grid_template_areas": null,
            "object_position": null,
            "object_fit": null,
            "grid_auto_columns": null,
            "margin": null,
            "display": null,
            "left": null
          }
        },
        "f511ee8f4d254798b1b177a44add780c": {
          "model_module": "@jupyter-widgets/controls",
          "model_name": "HBoxModel",
          "state": {
            "_view_name": "HBoxView",
            "_dom_classes": [],
            "_model_name": "HBoxModel",
            "_view_module": "@jupyter-widgets/controls",
            "_model_module_version": "1.5.0",
            "_view_count": null,
            "_view_module_version": "1.5.0",
            "box_style": "",
            "layout": "IPY_MODEL_0c6aed498e134488be0e586c597b7b9c",
            "_model_module": "@jupyter-widgets/controls",
            "children": [
              "IPY_MODEL_757e5f1d501b413280765c99134ac0df",
              "IPY_MODEL_8ee179767b6047e882cac3459acfab49"
            ]
          }
        },
        "0c6aed498e134488be0e586c597b7b9c": {
          "model_module": "@jupyter-widgets/base",
          "model_name": "LayoutModel",
          "state": {
            "_view_name": "LayoutView",
            "grid_template_rows": null,
            "right": null,
            "justify_content": null,
            "_view_module": "@jupyter-widgets/base",
            "overflow": null,
            "_model_module_version": "1.2.0",
            "_view_count": null,
            "flex_flow": null,
            "width": null,
            "min_width": null,
            "border": null,
            "align_items": null,
            "bottom": null,
            "_model_module": "@jupyter-widgets/base",
            "top": null,
            "grid_column": null,
            "overflow_y": null,
            "overflow_x": null,
            "grid_auto_flow": null,
            "grid_area": null,
            "grid_template_columns": null,
            "flex": null,
            "_model_name": "LayoutModel",
            "justify_items": null,
            "grid_row": null,
            "max_height": null,
            "align_content": null,
            "visibility": null,
            "align_self": null,
            "height": null,
            "min_height": null,
            "padding": null,
            "grid_auto_rows": null,
            "grid_gap": null,
            "max_width": null,
            "order": null,
            "_view_module_version": "1.2.0",
            "grid_template_areas": null,
            "object_position": null,
            "object_fit": null,
            "grid_auto_columns": null,
            "margin": null,
            "display": null,
            "left": null
          }
        },
        "757e5f1d501b413280765c99134ac0df": {
          "model_module": "@jupyter-widgets/controls",
          "model_name": "FloatProgressModel",
          "state": {
            "_view_name": "ProgressView",
            "style": "IPY_MODEL_a36c64a207ef49e28664967255b77efb",
            "_dom_classes": [],
            "description": "100%",
            "_model_name": "FloatProgressModel",
            "bar_style": "success",
            "max": 9676,
            "_view_module": "@jupyter-widgets/controls",
            "_model_module_version": "1.5.0",
            "value": 9676,
            "_view_count": null,
            "_view_module_version": "1.5.0",
            "orientation": "horizontal",
            "min": 0,
            "description_tooltip": null,
            "_model_module": "@jupyter-widgets/controls",
            "layout": "IPY_MODEL_dd2eaa144ccb4a3aa42412f4bbefaf48"
          }
        },
        "8ee179767b6047e882cac3459acfab49": {
          "model_module": "@jupyter-widgets/controls",
          "model_name": "HTMLModel",
          "state": {
            "_view_name": "HTMLView",
            "style": "IPY_MODEL_d7f9edb6c93048a8bd9b4f8495536264",
            "_dom_classes": [],
            "description": "",
            "_model_name": "HTMLModel",
            "placeholder": "​",
            "_view_module": "@jupyter-widgets/controls",
            "_model_module_version": "1.5.0",
            "value": " 9676/9676 [24:42&lt;00:00,  6.52it/s]",
            "_view_count": null,
            "_view_module_version": "1.5.0",
            "description_tooltip": null,
            "_model_module": "@jupyter-widgets/controls",
            "layout": "IPY_MODEL_9ec4bda6df8148fca93b9f8e2da38f85"
          }
        },
        "a36c64a207ef49e28664967255b77efb": {
          "model_module": "@jupyter-widgets/controls",
          "model_name": "ProgressStyleModel",
          "state": {
            "_view_name": "StyleView",
            "_model_name": "ProgressStyleModel",
            "description_width": "initial",
            "_view_module": "@jupyter-widgets/base",
            "_model_module_version": "1.5.0",
            "_view_count": null,
            "_view_module_version": "1.2.0",
            "bar_color": null,
            "_model_module": "@jupyter-widgets/controls"
          }
        },
        "dd2eaa144ccb4a3aa42412f4bbefaf48": {
          "model_module": "@jupyter-widgets/base",
          "model_name": "LayoutModel",
          "state": {
            "_view_name": "LayoutView",
            "grid_template_rows": null,
            "right": null,
            "justify_content": null,
            "_view_module": "@jupyter-widgets/base",
            "overflow": null,
            "_model_module_version": "1.2.0",
            "_view_count": null,
            "flex_flow": null,
            "width": null,
            "min_width": null,
            "border": null,
            "align_items": null,
            "bottom": null,
            "_model_module": "@jupyter-widgets/base",
            "top": null,
            "grid_column": null,
            "overflow_y": null,
            "overflow_x": null,
            "grid_auto_flow": null,
            "grid_area": null,
            "grid_template_columns": null,
            "flex": null,
            "_model_name": "LayoutModel",
            "justify_items": null,
            "grid_row": null,
            "max_height": null,
            "align_content": null,
            "visibility": null,
            "align_self": null,
            "height": null,
            "min_height": null,
            "padding": null,
            "grid_auto_rows": null,
            "grid_gap": null,
            "max_width": null,
            "order": null,
            "_view_module_version": "1.2.0",
            "grid_template_areas": null,
            "object_position": null,
            "object_fit": null,
            "grid_auto_columns": null,
            "margin": null,
            "display": null,
            "left": null
          }
        },
        "d7f9edb6c93048a8bd9b4f8495536264": {
          "model_module": "@jupyter-widgets/controls",
          "model_name": "DescriptionStyleModel",
          "state": {
            "_view_name": "StyleView",
            "_model_name": "DescriptionStyleModel",
            "description_width": "",
            "_view_module": "@jupyter-widgets/base",
            "_model_module_version": "1.5.0",
            "_view_count": null,
            "_view_module_version": "1.2.0",
            "_model_module": "@jupyter-widgets/controls"
          }
        },
        "9ec4bda6df8148fca93b9f8e2da38f85": {
          "model_module": "@jupyter-widgets/base",
          "model_name": "LayoutModel",
          "state": {
            "_view_name": "LayoutView",
            "grid_template_rows": null,
            "right": null,
            "justify_content": null,
            "_view_module": "@jupyter-widgets/base",
            "overflow": null,
            "_model_module_version": "1.2.0",
            "_view_count": null,
            "flex_flow": null,
            "width": null,
            "min_width": null,
            "border": null,
            "align_items": null,
            "bottom": null,
            "_model_module": "@jupyter-widgets/base",
            "top": null,
            "grid_column": null,
            "overflow_y": null,
            "overflow_x": null,
            "grid_auto_flow": null,
            "grid_area": null,
            "grid_template_columns": null,
            "flex": null,
            "_model_name": "LayoutModel",
            "justify_items": null,
            "grid_row": null,
            "max_height": null,
            "align_content": null,
            "visibility": null,
            "align_self": null,
            "height": null,
            "min_height": null,
            "padding": null,
            "grid_auto_rows": null,
            "grid_gap": null,
            "max_width": null,
            "order": null,
            "_view_module_version": "1.2.0",
            "grid_template_areas": null,
            "object_position": null,
            "object_fit": null,
            "grid_auto_columns": null,
            "margin": null,
            "display": null,
            "left": null
          }
        }
      }
    }
  },
  "cells": [
    {
      "cell_type": "code",
      "metadata": {
        "id": "QPURh7MDF46H",
        "outputId": "14753646-b774-4df8-c616-eb04cdf89900",
        "colab": {
          "base_uri": "https://localhost:8080/",
          "height": 34
        }
      },
      "source": [
        "#how csv are read in google collaboratory - https://stackoverflow.com/questions/48340341/read-csv-to-dataframe-in-google-colab\n",
        "from google.colab import drive \n",
        "drive.mount('/content/gdrive',force_remount=True)"
      ],
      "execution_count": null,
      "outputs": [
        {
          "output_type": "stream",
          "text": [
            "Mounted at /content/gdrive\n"
          ],
          "name": "stdout"
        }
      ]
    },
    {
      "cell_type": "code",
      "metadata": {
        "id": "KJiLeh8_GC8v",
        "outputId": "8a0f36f8-2cc1-4ce1-dc02-75c19b97b6ad",
        "colab": {
          "base_uri": "https://localhost:8080/",
          "height": 34
        }
      },
      "source": [
        "%cd \"gdrive/My Drive/Deep_Text_Corrector\""
      ],
      "execution_count": null,
      "outputs": [
        {
          "output_type": "stream",
          "text": [
            "/content/gdrive/My Drive/Deep_Text_Corrector\n"
          ],
          "name": "stdout"
        }
      ]
    },
    {
      "cell_type": "code",
      "metadata": {
        "id": "YSrJCQ7_GF83",
        "outputId": "2ac734a4-0693-456e-9a59-0e4e10477f57",
        "colab": {
          "base_uri": "https://localhost:8080/",
          "height": 204
        }
      },
      "source": [
        "pip install python-docx"
      ],
      "execution_count": null,
      "outputs": [
        {
          "output_type": "stream",
          "text": [
            "Collecting python-docx\n",
            "\u001b[?25l  Downloading https://files.pythonhosted.org/packages/e4/83/c66a1934ed5ed8ab1dbb9931f1779079f8bca0f6bbc5793c06c4b5e7d671/python-docx-0.8.10.tar.gz (5.5MB)\n",
            "\u001b[K     |████████████████████████████████| 5.5MB 2.9MB/s \n",
            "\u001b[?25hRequirement already satisfied: lxml>=2.3.2 in /usr/local/lib/python3.6/dist-packages (from python-docx) (4.2.6)\n",
            "Building wheels for collected packages: python-docx\n",
            "  Building wheel for python-docx (setup.py) ... \u001b[?25l\u001b[?25hdone\n",
            "  Created wheel for python-docx: filename=python_docx-0.8.10-cp36-none-any.whl size=184491 sha256=afbdecb6ec98b3e370c151b9c53bf2452b3690c064f3070e7ec1f83c1d802273\n",
            "  Stored in directory: /root/.cache/pip/wheels/18/0b/a0/1dd62ff812c857c9e487f27d80d53d2b40531bec1acecfa47b\n",
            "Successfully built python-docx\n",
            "Installing collected packages: python-docx\n",
            "Successfully installed python-docx-0.8.10\n"
          ],
          "name": "stdout"
        }
      ]
    },
    {
      "cell_type": "code",
      "metadata": {
        "id": "u9yhoQDyGGUH"
      },
      "source": [
        "from docx import Document\n",
        "from tqdm import tqdm_notebook as tqdm\n",
        "import pandas as pd\n",
        "from sklearn.model_selection import train_test_split\n",
        "import numpy as np\n",
        "import random\n",
        "import spacy\n",
        "import re\n",
        "import string\n",
        "from sklearn.feature_extraction.text import CountVectorizer\n",
        "from scipy.sparse import coo_matrix\n",
        "import warnings\n",
        "warnings.filterwarnings('ignore')\n",
        "import tensorflow as tf\n",
        "from tensorflow.keras.layers import LSTM, GRU, Dense, Input, Embedding\n",
        "from tensorflow.keras.models import Model\n",
        "from numpy import array\n",
        "from sklearn.utils import shuffle\n",
        "from tensorflow.keras.callbacks import ModelCheckpoint\n",
        "from tensorflow.keras.layers import Lambda\n",
        "from tensorflow.keras.backend import concatenate"
      ],
      "execution_count": null,
      "outputs": []
    },
    {
      "cell_type": "code",
      "metadata": {
        "id": "YqWW2JLgGGXP",
        "outputId": "8e37cafa-339e-418a-a6c4-8097422c3dd0",
        "colab": {
          "base_uri": "https://localhost:8080/",
          "height": 34
        }
      },
      "source": [
        "print(\"Num GPUs Available: \", len(tf.config.experimental.list_physical_devices('GPU')))"
      ],
      "execution_count": null,
      "outputs": [
        {
          "output_type": "stream",
          "text": [
            "Num GPUs Available:  1\n"
          ],
          "name": "stdout"
        }
      ]
    },
    {
      "cell_type": "code",
      "metadata": {
        "id": "JvO4L-aeGGaX",
        "outputId": "b5804a7f-e2be-4b16-d6f3-96d3c9a85128",
        "colab": {
          "base_uri": "https://localhost:8080/",
          "height": 34
        }
      },
      "source": [
        "tf.config.experimental.list_physical_devices('GPU')"
      ],
      "execution_count": null,
      "outputs": [
        {
          "output_type": "execute_result",
          "data": {
            "text/plain": [
              "[PhysicalDevice(name='/physical_device:GPU:0', device_type='GPU')]"
            ]
          },
          "metadata": {
            "tags": []
          },
          "execution_count": 7
        }
      ]
    },
    {
      "cell_type": "markdown",
      "metadata": {
        "id": "YZ-m0PohGOd_"
      },
      "source": [
        "__Data Preprocessing__"
      ]
    },
    {
      "cell_type": "code",
      "metadata": {
        "id": "l06bJfyGGGdP",
        "outputId": "ffbc476f-f6cf-4ad6-9acf-e7ec57e51ddc",
        "colab": {
          "base_uri": "https://localhost:8080/",
          "height": 34
        }
      },
      "source": [
        "#https://automatetheboringstuff.com/chapter13/\n",
        "doc = Document('Harry_Potter.docx')\n",
        "len(doc.paragraphs)"
      ],
      "execution_count": null,
      "outputs": [
        {
          "output_type": "execute_result",
          "data": {
            "text/plain": [
              "91663"
            ]
          },
          "metadata": {
            "tags": []
          },
          "execution_count": 8
        }
      ]
    },
    {
      "cell_type": "code",
      "metadata": {
        "id": "q6hXYEztGGgX"
      },
      "source": [
        "#Getting paragraphs from the doc\n",
        "paras=[]\n",
        "for para in doc.paragraphs:\n",
        "  if para.text != '':\n",
        "    paras.append(para.text.strip())"
      ],
      "execution_count": null,
      "outputs": []
    },
    {
      "cell_type": "code",
      "metadata": {
        "id": "Ikd-gCqrGGjn",
        "outputId": "d3bad3ff-f9f9-4a39-c5dd-6ef5d6d6df47",
        "colab": {
          "base_uri": "https://localhost:8080/",
          "height": 34
        }
      },
      "source": [
        "len(paras)"
      ],
      "execution_count": null,
      "outputs": [
        {
          "output_type": "execute_result",
          "data": {
            "text/plain": [
              "41053"
            ]
          },
          "metadata": {
            "tags": []
          },
          "execution_count": 10
        }
      ]
    },
    {
      "cell_type": "code",
      "metadata": {
        "id": "HJ3ld1wBMs6c"
      },
      "source": [
        "paras2=[]\n",
        "skip=0\n",
        "for para in paras:\n",
        "  if 'CHAPTER' in para:\n",
        "    skip+=2\n",
        "  if skip: \n",
        "    skip-=1\n",
        "  else:\n",
        "    paras2.append(para)"
      ],
      "execution_count": null,
      "outputs": []
    },
    {
      "cell_type": "code",
      "metadata": {
        "id": "9-enV79iNbyn",
        "outputId": "24152536-1474-43c2-e5ff-9a93ea9d5bd3",
        "colab": {
          "base_uri": "https://localhost:8080/",
          "height": 34
        }
      },
      "source": [
        "len(paras2)"
      ],
      "execution_count": null,
      "outputs": [
        {
          "output_type": "execute_result",
          "data": {
            "text/plain": [
              "40657"
            ]
          },
          "metadata": {
            "tags": []
          },
          "execution_count": 12
        }
      ]
    },
    {
      "cell_type": "code",
      "metadata": {
        "id": "dTCzqlOeGXdO",
        "outputId": "701dd3ac-7798-484e-cf4c-44785c4102b2",
        "colab": {
          "base_uri": "https://localhost:8080/",
          "height": 34
        }
      },
      "source": [
        "#removing paragraphs with missing quatation endings.\n",
        "new_paras=[]\n",
        "count=0\n",
        "for para in paras2:\n",
        "  if para.count('“')!=para.count('”'):\n",
        "    count+=1\n",
        "    continue\n",
        "  new_paras.append(para)\n",
        "count"
      ],
      "execution_count": null,
      "outputs": [
        {
          "output_type": "execute_result",
          "data": {
            "text/plain": [
              "1685"
            ]
          },
          "metadata": {
            "tags": []
          },
          "execution_count": 13
        }
      ]
    },
    {
      "cell_type": "code",
      "metadata": {
        "id": "zCoF1NtzGXgO",
        "outputId": "1ed294ce-b794-4b1c-d146-407f44234d61",
        "colab": {
          "base_uri": "https://localhost:8080/",
          "height": 34
        }
      },
      "source": [
        "len(new_paras)"
      ],
      "execution_count": null,
      "outputs": [
        {
          "output_type": "execute_result",
          "data": {
            "text/plain": [
              "38972"
            ]
          },
          "metadata": {
            "tags": []
          },
          "execution_count": 14
        }
      ]
    },
    {
      "cell_type": "code",
      "metadata": {
        "id": "bljgWPdvLmGH"
      },
      "source": [
        "new_paras_2=new_paras[:30000]"
      ],
      "execution_count": null,
      "outputs": []
    },
    {
      "cell_type": "code",
      "metadata": {
        "id": "fGf09_3aGXjX"
      },
      "source": [
        "total_text=\" \".join(new_paras_2)"
      ],
      "execution_count": null,
      "outputs": []
    },
    {
      "cell_type": "code",
      "metadata": {
        "id": "qTs_l6ESeSNS"
      },
      "source": [
        "” “ ’"
      ],
      "execution_count": null,
      "outputs": []
    },
    {
      "cell_type": "code",
      "metadata": {
        "id": "MHPdvCXGGXme"
      },
      "source": [
        "#sentence detection - https://realpython.com/natural-language-processing-spacy-python/\n",
        "def set_custom_boundaries(doc):\n",
        "  for i,token in enumerate(doc[:-1]):\n",
        "    if token.text == ')' and doc[i-1].text == '.' and i>0:\n",
        "      doc[i+1].is_sent_start = True\n",
        "    elif token.text ==  ';' and not doc[i+1].text.islower():\n",
        "      doc[i+1] .is_sent_start  = True\n",
        "    elif token.text ==  '!' and not doc[i+1].text.islower():\n",
        "      doc[i+1] .is_sent_start  = True\n",
        "    elif token.text ==  '?' and not doc[i+1].text.islower():\n",
        "      doc[i+1] .is_sent_start  = True\n",
        "    elif token.text == '”' and (doc[i-1].text=='.' or doc[i-1].text=='?' or doc[i-1].text=='!' or doc[i-1].text==';') and i>0 and not doc[i+1].text.islower():\n",
        "      doc[i+1].is_sent_start = True\n",
        "    elif token.text == '.' and doc[i+1].text==')':\n",
        "      doc[i+1].is_sent_start = False\n",
        "    elif token.text == '.' and doc[i+1].text!='.' and not doc[i+1].text.islower():\n",
        "      doc[i+1].is_sent_start = True\n",
        "    else:\n",
        "      doc[i+1].is_sent_start  = False\n",
        "  return doc\n",
        "\n",
        "lines=[]\n",
        "custom_nlp = spacy.load('en_core_web_sm')\n",
        "custom_nlp.max_length = 4579094\n",
        "custom_nlp.add_pipe(set_custom_boundaries, before='parser')\n",
        "custom_doc = custom_nlp(total_text)"
      ],
      "execution_count": null,
      "outputs": []
    },
    {
      "cell_type": "code",
      "metadata": {
        "id": "QYVWFtSbGXpr"
      },
      "source": [
        "lines=[]\n",
        "custom_sentences = list(custom_doc.sents)\n",
        "for line in custom_sentences:\n",
        "  lines.append(str(line))"
      ],
      "execution_count": null,
      "outputs": []
    },
    {
      "cell_type": "code",
      "metadata": {
        "id": "_EOLi4p0MQj-",
        "outputId": "4594144e-2fde-46d5-fa37-808655255fef",
        "colab": {
          "base_uri": "https://localhost:8080/",
          "height": 34
        }
      },
      "source": [
        "len(lines)"
      ],
      "execution_count": null,
      "outputs": [
        {
          "output_type": "execute_result",
          "data": {
            "text/plain": [
              "73452"
            ]
          },
          "metadata": {
            "tags": []
          },
          "execution_count": 19
        }
      ]
    },
    {
      "cell_type": "code",
      "metadata": {
        "id": "iCeWn-53OmPm",
        "outputId": "c270d160-aeb4-4a20-abd5-71cb7ff09022",
        "colab": {
          "base_uri": "https://localhost:8080/",
          "height": 207
        }
      },
      "source": [
        "lines[0:10]"
      ],
      "execution_count": null,
      "outputs": [
        {
          "output_type": "execute_result",
          "data": {
            "text/plain": [
              "['Mr. and Mrs. Dursley, of number four, Privet Drive, were proud to say that they were perfectly normal, thank you very much.',\n",
              " 'They were the last people you’d expect to be involved in anything strange or mysterious, because they just didn’t hold with such nonsense.',\n",
              " 'Mr. Dursley was the director of a firm called Grunnings, which made drills.',\n",
              " 'He was a big, beefy man with hardly any neck, although he did have a very large mustache.',\n",
              " 'Mrs. Dursley was thin and blonde and had nearly twice the usual amount of neck, which came in very useful as she spent so much of her time craning over garden fences, spying on the neighbors.',\n",
              " 'The Dursleys had a small son called Dudley and in their opinion there was no finer boy anywhere.',\n",
              " 'The Dursleys had everything they wanted, but they also had a secret, and their greatest fear was that somebody would discover it.',\n",
              " 'They didn’t think they could bear it if anyone found out about the Potters.',\n",
              " 'Mrs. Potter was Mrs. Dursley’s sister, but they hadn’t met for several years; in fact, Mrs. Dursley pretended she didn’t have a sister, because her sister and her good-for-nothing husband were as unDursleyish as it was possible to be.',\n",
              " 'The Dursleys shuddered to think what the neighbors would say if the Potters arrived in the street.']"
            ]
          },
          "metadata": {
            "tags": []
          },
          "execution_count": 20
        }
      ]
    },
    {
      "cell_type": "code",
      "metadata": {
        "id": "Vi5YEGY8TXSc"
      },
      "source": [
        "#replacing tab spaces with single space\n",
        "lines_2=[]\n",
        "for line in lines:\n",
        "  if '\\t' in line:\n",
        "    line=line.replace('\\t',' ')\n",
        "    lines_2.append(line)\n",
        "  else:\n",
        "    lines_2.append(line)"
      ],
      "execution_count": null,
      "outputs": []
    },
    {
      "cell_type": "code",
      "metadata": {
        "id": "PY6ay7OqGXwW"
      },
      "source": [
        "#sentences with quotations - get sentences with proper quotations to get linguistically meaningful units\n",
        "skip=0\n",
        "new_lines=[]\n",
        "for ind,line in enumerate(lines_2):\n",
        "  if skip:\n",
        "      skip -= 1\n",
        "      continue\n",
        "  #if line.count('\"')%2!=0:\n",
        "  #if ('”' in line and '“' not in line) or ('“' in line and '”' not in line):\n",
        "  if line.count('“')!=line.count('”'):\n",
        "    l=\"\"\n",
        "    l=l+lines_2[ind]\n",
        "    skip=0\n",
        "    #while(l.count('\"')%2!=0):\n",
        "    #while('”' in l and '“' not in l) or ('“' in l and '”' not in l):\n",
        "    while l.count('“')!=l.count('”'):\n",
        "      if (lines_2[ind+1]=='”'):\n",
        "        l=l+'”'\n",
        "      elif (lines_2[ind+1].startswith('”') or l=='“'):\n",
        "        l=l+lines_2[ind+1]\n",
        "      else:\n",
        "        l=l+\" \"+lines_2[ind+1]\n",
        "      ind+=1\n",
        "      skip+=1\n",
        "    new_lines.append(l)\n",
        "  else:\n",
        "    new_lines.append(line)"
      ],
      "execution_count": null,
      "outputs": []
    },
    {
      "cell_type": "code",
      "metadata": {
        "id": "G7LZF2vBGXzs",
        "outputId": "29f4335f-3ab6-4c72-ec0c-c65648a8a3fc",
        "colab": {
          "base_uri": "https://localhost:8080/",
          "height": 207
        }
      },
      "source": [
        "new_lines[0:10]"
      ],
      "execution_count": null,
      "outputs": [
        {
          "output_type": "execute_result",
          "data": {
            "text/plain": [
              "['Mr. and Mrs. Dursley, of number four, Privet Drive, were proud to say that they were perfectly normal, thank you very much.',\n",
              " 'They were the last people you’d expect to be involved in anything strange or mysterious, because they just didn’t hold with such nonsense.',\n",
              " 'Mr. Dursley was the director of a firm called Grunnings, which made drills.',\n",
              " 'He was a big, beefy man with hardly any neck, although he did have a very large mustache.',\n",
              " 'Mrs. Dursley was thin and blonde and had nearly twice the usual amount of neck, which came in very useful as she spent so much of her time craning over garden fences, spying on the neighbors.',\n",
              " 'The Dursleys had a small son called Dudley and in their opinion there was no finer boy anywhere.',\n",
              " 'The Dursleys had everything they wanted, but they also had a secret, and their greatest fear was that somebody would discover it.',\n",
              " 'They didn’t think they could bear it if anyone found out about the Potters.',\n",
              " 'Mrs. Potter was Mrs. Dursley’s sister, but they hadn’t met for several years; in fact, Mrs. Dursley pretended she didn’t have a sister, because her sister and her good-for-nothing husband were as unDursleyish as it was possible to be.',\n",
              " 'The Dursleys shuddered to think what the neighbors would say if the Potters arrived in the street.']"
            ]
          },
          "metadata": {
            "tags": []
          },
          "execution_count": 23
        }
      ]
    },
    {
      "cell_type": "code",
      "metadata": {
        "id": "YKZjRXHSRtgc",
        "outputId": "6e14eb38-6121-46a3-da72-c038411908bb",
        "colab": {
          "base_uri": "https://localhost:8080/",
          "height": 34
        }
      },
      "source": [
        "len(new_lines)"
      ],
      "execution_count": null,
      "outputs": [
        {
          "output_type": "execute_result",
          "data": {
            "text/plain": [
              "48901"
            ]
          },
          "metadata": {
            "tags": []
          },
          "execution_count": 24
        }
      ]
    },
    {
      "cell_type": "code",
      "metadata": {
        "id": "iqwaErQURtji"
      },
      "source": [
        "#sentences with braces - get sentences with proper opening and closing braces to get linguistically meaningful units\n",
        "skip=0\n",
        "new_lines_2=[]\n",
        "for ind,line in enumerate(new_lines):\n",
        "  if skip:\n",
        "      skip -= 1\n",
        "      continue\n",
        "  #if '(' in line and ')' not in line:\n",
        "  if line.count('(')!=line.count(')'):\n",
        "    l=\"\"\n",
        "    l=l+new_lines[ind]\n",
        "    skip=0\n",
        "    while(')' not in l):\n",
        "      if (new_lines[ind+1]==')'):\n",
        "        l=l+')'\n",
        "      elif (new_lines[ind+1].startswith(')') or l=='('):\n",
        "        l=l+new_lines[ind+1]\n",
        "      #if(new_lines[ind+1].startswith(')')):\n",
        "      #  l=l+new_lines[ind+1]\n",
        "      else:\n",
        "        l=l+\" \"+new_lines[ind+1]\n",
        "      ind+=1\n",
        "      skip+=1\n",
        "    new_lines_2.append(l)\n",
        "  else:\n",
        "    new_lines_2.append(line)"
      ],
      "execution_count": null,
      "outputs": []
    },
    {
      "cell_type": "code",
      "metadata": {
        "id": "6-RW3YgLRtmr",
        "outputId": "85c3f137-4aa5-4edb-d6a4-98308e8f24b1",
        "colab": {
          "base_uri": "https://localhost:8080/",
          "height": 34
        }
      },
      "source": [
        "len(new_lines_2)"
      ],
      "execution_count": null,
      "outputs": [
        {
          "output_type": "execute_result",
          "data": {
            "text/plain": [
              "48818"
            ]
          },
          "metadata": {
            "tags": []
          },
          "execution_count": 26
        }
      ]
    },
    {
      "cell_type": "code",
      "metadata": {
        "id": "vfF_3UXUojBO",
        "outputId": "c56892c0-4010-42f7-86e8-1000b934fab6",
        "colab": {
          "base_uri": "https://localhost:8080/",
          "height": 207
        }
      },
      "source": [
        "new_lines_2[-10:]"
      ],
      "execution_count": null,
      "outputs": [
        {
          "output_type": "execute_result",
          "data": {
            "text/plain": [
              "['“Thus far, as I hope you agree, I have shown you reasonably firm sources of fact for my deductions as to what Voldemort did until the age of seventeen?”',\n",
              " 'Harry nodded.',\n",
              " '“But now, Harry,” said Dumbledore, “now things become murkier and stranger. If it was difficult to find evidence about the boy Riddle, it has been almost impossible to find anyone prepared to reminisce about the man Voldemort. In fact, I doubt whether there is a soul alive, apart from himself, who could give us a full account of his life since he left Hogwarts. However, I have two last memories that I would like to share with you.”',\n",
              " 'Dumbledore indicated the two little crystal bottles gleaming beside the Pensieve.',\n",
              " '“I shall then be glad of your opinion as to whether the conclusions I have drawn from them seem likely.”',\n",
              " 'The idea that Dumbledore valued his opinion this highly made Harry feel even more deeply ashamed that he had failed in the task of retrieving the Horcrux memory, and he shifted guiltily in his seat as Dumbledore raised the first of the two bottles to the light and examined it.',\n",
              " '“He reached the seventh year of his schooling with, as you might have expected, top grades in every examination he had taken. All around him, his classmates were deciding which jobs they were to pursue once they had left Hogwarts. Nearly everybody expected spectacular things from Tom Riddle, prefect, Head Boy, winner of the Award for Special Services to the School. I know that several teachers, Professor Slughorn amongst them, suggested that he join the Ministry of Magic, offered to set up appointments, put him in touch with useful contacts. He refused all offers. The next thing the staff knew, Voldemort was working at Borgin and Burkes.”',\n",
              " '“At Borgin and Burkes?”',\n",
              " 'Harry repeated, stunned.',\n",
              " '“He wanted to stay here? Why?” asked Harry, more amazed still.']"
            ]
          },
          "metadata": {
            "tags": []
          },
          "execution_count": 27
        }
      ]
    },
    {
      "cell_type": "code",
      "metadata": {
        "id": "5KFroED-Rtp1"
      },
      "source": [
        "#removing sentences which has only one word\n",
        "new_lines_3=[]\n",
        "for line in new_lines_2:\n",
        "  if len(line.split())<2:\n",
        "    pass\n",
        "  else:\n",
        "    if line.startswith(' '):\n",
        "      line=line.replace(' ',\"\",1)\n",
        "    line=line.replace('  ',' ')\n",
        "    new_lines_3.append(line)"
      ],
      "execution_count": null,
      "outputs": []
    },
    {
      "cell_type": "code",
      "metadata": {
        "id": "crFcKzAVRtsq",
        "outputId": "c40bbef0-963a-40f8-b6a0-baf8f0196eb1",
        "colab": {
          "base_uri": "https://localhost:8080/",
          "height": 34
        }
      },
      "source": [
        "len(new_lines_3)"
      ],
      "execution_count": null,
      "outputs": [
        {
          "output_type": "execute_result",
          "data": {
            "text/plain": [
              "48376"
            ]
          },
          "metadata": {
            "tags": []
          },
          "execution_count": 29
        }
      ]
    },
    {
      "cell_type": "code",
      "metadata": {
        "id": "2TR2R5Tkx2QW"
      },
      "source": [
        "#replacing ’ ‘ with ' - to get correct pos tags for 'd,'ve,n't etc,.\n",
        "new_lines_4=[]\n",
        "for line in new_lines_3:\n",
        "  if \"’\" in line:\n",
        "    line=line.replace(\"’\",\"'\")\n",
        "  if \"‘\" in line:\n",
        "    line=line.replace(\"‘\",\"'\")\n",
        "  if \"on'y\" in line:\n",
        "    line=line.replace(\"on'y\",\"only\")\n",
        "  new_lines_4.append(line)"
      ],
      "execution_count": null,
      "outputs": []
    },
    {
      "cell_type": "code",
      "metadata": {
        "id": "pZrYTrgPzGGq",
        "outputId": "37be7e8f-f7ba-4def-ceef-63d030f35983",
        "colab": {
          "base_uri": "https://localhost:8080/",
          "height": 34
        }
      },
      "source": [
        "len(new_lines_4)"
      ],
      "execution_count": null,
      "outputs": [
        {
          "output_type": "execute_result",
          "data": {
            "text/plain": [
              "48376"
            ]
          },
          "metadata": {
            "tags": []
          },
          "execution_count": 31
        }
      ]
    },
    {
      "cell_type": "code",
      "metadata": {
        "id": "ozFYXD11Rtyr",
        "outputId": "4796aa09-8f40-417a-b25e-d358664d20c7",
        "colab": {
          "base_uri": "https://localhost:8080/",
          "height": 204
        }
      },
      "source": [
        "df=pd.DataFrame(new_lines_4)\n",
        "df.columns=['lines']\n",
        "df.head()"
      ],
      "execution_count": null,
      "outputs": [
        {
          "output_type": "execute_result",
          "data": {
            "text/html": [
              "<div>\n",
              "<style scoped>\n",
              "    .dataframe tbody tr th:only-of-type {\n",
              "        vertical-align: middle;\n",
              "    }\n",
              "\n",
              "    .dataframe tbody tr th {\n",
              "        vertical-align: top;\n",
              "    }\n",
              "\n",
              "    .dataframe thead th {\n",
              "        text-align: right;\n",
              "    }\n",
              "</style>\n",
              "<table border=\"1\" class=\"dataframe\">\n",
              "  <thead>\n",
              "    <tr style=\"text-align: right;\">\n",
              "      <th></th>\n",
              "      <th>lines</th>\n",
              "    </tr>\n",
              "  </thead>\n",
              "  <tbody>\n",
              "    <tr>\n",
              "      <th>0</th>\n",
              "      <td>Mr. and Mrs. Dursley, of number four, Privet D...</td>\n",
              "    </tr>\n",
              "    <tr>\n",
              "      <th>1</th>\n",
              "      <td>They were the last people you'd expect to be i...</td>\n",
              "    </tr>\n",
              "    <tr>\n",
              "      <th>2</th>\n",
              "      <td>Mr. Dursley was the director of a firm called ...</td>\n",
              "    </tr>\n",
              "    <tr>\n",
              "      <th>3</th>\n",
              "      <td>He was a big, beefy man with hardly any neck, ...</td>\n",
              "    </tr>\n",
              "    <tr>\n",
              "      <th>4</th>\n",
              "      <td>Mrs. Dursley was thin and blonde and had nearl...</td>\n",
              "    </tr>\n",
              "  </tbody>\n",
              "</table>\n",
              "</div>"
            ],
            "text/plain": [
              "                                               lines\n",
              "0  Mr. and Mrs. Dursley, of number four, Privet D...\n",
              "1  They were the last people you'd expect to be i...\n",
              "2  Mr. Dursley was the director of a firm called ...\n",
              "3  He was a big, beefy man with hardly any neck, ...\n",
              "4  Mrs. Dursley was thin and blonde and had nearl..."
            ]
          },
          "metadata": {
            "tags": []
          },
          "execution_count": 32
        }
      ]
    },
    {
      "cell_type": "code",
      "metadata": {
        "id": "0gTY3DDKSA-i",
        "outputId": "51c8bfe6-b2d1-4ec8-d527-ac098eaa074a",
        "colab": {
          "base_uri": "https://localhost:8080/",
          "height": 34
        }
      },
      "source": [
        "df.shape"
      ],
      "execution_count": null,
      "outputs": [
        {
          "output_type": "execute_result",
          "data": {
            "text/plain": [
              "(48376, 1)"
            ]
          },
          "metadata": {
            "tags": []
          },
          "execution_count": 33
        }
      ]
    },
    {
      "cell_type": "code",
      "metadata": {
        "id": "zq1g3nMvSBBl",
        "outputId": "223ccd3b-2416-4bdc-d249-41ff73fb839d",
        "colab": {
          "base_uri": "https://localhost:8080/",
          "height": 68
        }
      },
      "source": [
        "#splitting data into train, cv and test\n",
        "train, test = train_test_split(df,test_size=0.2,random_state=42)\n",
        "train, cv = train_test_split(train,test_size=0.2,random_state=42)\n",
        "print(train.shape)\n",
        "print(cv.shape)\n",
        "print(test.shape)"
      ],
      "execution_count": null,
      "outputs": [
        {
          "output_type": "stream",
          "text": [
            "(30960, 1)\n",
            "(7740, 1)\n",
            "(9676, 1)\n"
          ],
          "name": "stdout"
        }
      ]
    },
    {
      "cell_type": "code",
      "metadata": {
        "id": "ot02TMsNpu0b"
      },
      "source": [
        "” “ ’"
      ],
      "execution_count": null,
      "outputs": []
    },
    {
      "cell_type": "code",
      "metadata": {
        "id": "6PKpPxf_SBEx"
      },
      "source": [
        "\"\"\"\n",
        "words after splitting string and tokens in spacy nlp(string) are different\n",
        "as spacy treats punctuations included in a word as seperate tokens\n",
        "Eg: \n",
        "\"'my name don is the 'was the man then\".split()\n",
        "output:\n",
        "[\"'my\", 'name', 'don', 'is', 'the', \"'was\", 'the', 'man', 'then']\n",
        "\n",
        "for t in nlp(\"'my name don is the 'was the man then\"):\n",
        "  print(t)\n",
        "output:\n",
        "'\n",
        "my\n",
        "name\n",
        "don\n",
        "is\n",
        "the\n",
        "'\n",
        "was\n",
        "the\n",
        "man\n",
        "then\n",
        "\n",
        "If we observe, apostrophe(') is considered as seperate token in spacy.\n",
        "Here we are considering punctuations and defining errors. For example, replacing\n",
        "comma with fullstop, removing opening double quote, etc.\n",
        "But, we can't replace tokens in spacy.\n",
        "So, we convert it into string first and find index of the token to be replaced.\n",
        "Below function finds index, and replaces tokens with error.\n",
        "\"\"\"\n",
        "\n",
        "#function to replace tokens with errors\n",
        "def replace_with_error(about_inc,index,to_replace,error):\n",
        "  l=str(about_inc)\n",
        "  g=[]\n",
        "  for i,t in enumerate(about_inc):\n",
        "    if(i==index) and to_replace==about_inc[index].text:\n",
        "      idx=t.idx\n",
        "    elif(i==index):\n",
        "      idx=t.idx-to_replace.find(about_inc[index].text)\n",
        "    lent=len(to_replace)\n",
        "  skip=0\n",
        "  for i,ch in enumerate(l):\n",
        "    if skip:\n",
        "      skip-=1\n",
        "      continue\n",
        "    if(i==idx):\n",
        "      g.append(error)\n",
        "      skip=lent-1\n",
        "    else:\n",
        "      g.append(ch)\n",
        "  return ''.join(g)\n",
        "\n",
        "#function to define errors\n",
        "def get_incorrect_lines(df):\n",
        "  incorrect_lines=[]\n",
        "  words_end_with=('ch','ss','sh','x','zz')\n",
        "  words_ends_with_cont=(\"'ve\",\"'ll\",\"'s\",\"'m\",\"'d\",\"'re\",\"'t\")\n",
        "  vowels=('ay','ey','iy','oy','uy')\n",
        "  nlp = spacy.load('en_core_web_sm')\n",
        "  for i in tqdm(range(len(df.values))):\n",
        "    \n",
        "    about_doc = nlp(df.values[i])\n",
        "    about_inc=nlp(df.values[i])\n",
        "\n",
        "    #counts for not repeating same error twice in a line\n",
        "    count1=0;count2=0;count3=0;count4=0;count5=0;count6=0;count7=0;count8=0\n",
        "    count9=0;count10=0;count11=0;count12=0;count13=0;count14=0;count15=0;count16=0\n",
        "\n",
        "    #count for maintaining only two errors per line\n",
        "    error_count=0\n",
        "\n",
        "    skip=0\n",
        "    previous_tokens=[]\n",
        "    for j,token in enumerate(about_doc):\n",
        "      #storing tokens\n",
        "      previous_tokens.append(token.text)\n",
        "\n",
        "      #getting index for tokens in incorrect lines(about_inc)\n",
        "      for t in about_inc:\n",
        "        if about_doc[j].text==t.text:\n",
        "          index=t.i\n",
        "          break\n",
        "\n",
        "      if skip:\n",
        "        skip -= 1\n",
        "        continue\n",
        "\n",
        "      #if same token is present twice in the line, skipping that token\n",
        "      if about_doc[j].text in previous_tokens[0:-1]:\n",
        "        skip=1\n",
        "      if skip:\n",
        "        skip -= 1\n",
        "        continue\n",
        "\n",
        "      #1. replacing Verb Past Tense(VBD) to Verb present tense: were --> are, saw --> see\n",
        "      if  token.tag_ == 'VBD' and about_inc[index].text!=token.lemma_ and about_inc[index].text[0].islower() and count1==0 and error_count<=2:\n",
        "        about_inc=nlp(replace_with_error(about_inc,index,about_inc[index].text,token.lemma_))\n",
        "        count1=1\n",
        "        \n",
        "\n",
        "      #2. Subject-verb agreement: they go -->they goes,we watch  -->we watches\n",
        "      elif token.tag_ ==  'VBP':\n",
        "        for t in nlp(str(token)):\n",
        "          if t.tag_ == 'VB':\n",
        "            if about_inc[index].text.endswith(words_end_with) or about_inc[index].text == 'go' or about_inc[index].text == 'do' and count2==0 and error_count<=2:\n",
        "                about_inc=nlp(replace_with_error(about_inc,index,about_inc[index].text,about_inc[index].text+'es'))\n",
        "                count2=1\n",
        "                \n",
        "            elif about_inc[index].text.endswith(vowels) and count2==0:\n",
        "              about_inc=nlp(replace_with_error(about_inc,index,about_inc[index].text,about_inc[index].text+'s'))\n",
        "              count2=1\n",
        "              \n",
        "            elif about_inc[index].text.endswith('y') and count2==0:\n",
        "              about_inc=nlp(replace_with_error(about_inc,index,about_inc[index].text,about_inc[index].text.replace('y','ies')))\n",
        "              count2=1\n",
        "              \n",
        "            elif about_inc[index].text == 'be' and count2==0:\n",
        "              about_inc=nlp(replace_with_error(about_inc,index,about_inc[index].text,'is'))\n",
        "              count2=1\n",
        "              \n",
        "            elif about_inc[index].text.endswith('s') and count2==0:\n",
        "              about_inc=nlp(replace_with_error(about_inc,index,about_inc[index].text,about_inc[index].text+'ses'))\n",
        "              count2=1\n",
        "              \n",
        "            elif about_inc[index].text.endswith('z') and count2==0:\n",
        "              about_inc=nlp(replace_with_error(about_inc,index,about_inc[index].text,about_inc[index].text+'zes'))\n",
        "              count2=1\n",
        "              \n",
        "\n",
        "        #3. Missing verb: However, there are also a great number of people [who → who are] against\n",
        "        if about_inc[index-1].tag_ == 'WP' and j!=0 and count3==0:\n",
        "          about_inc=nlp(replace_with_error(about_inc,index,about_inc[index].text+\" \",\"\"))\n",
        "          count3=1\n",
        "          \n",
        "\n",
        "      #4. Removing Articles\n",
        "      elif about_inc[index].text=='a' or about_inc[index].text=='an' or about_inc[index].text=='the' and count4==0:\n",
        "        about_inc=nlp(replace_with_error(about_inc,index,about_inc[index].text+\" \",\"\"))\n",
        "        count4=1\n",
        "        \n",
        "\n",
        "      #5. Noun number: children --> child\n",
        "      elif token.tag_  == 'NNS' and about_inc[index].text!=token.lemma_ and about_inc[index].text[0].islower() and count5==0:\n",
        "        about_inc=nlp(replace_with_error(about_inc,index,about_inc[index].text,token.lemma_))\n",
        "        count5=1\n",
        "        \n",
        "\n",
        "      #6. Noun possessive: carrier's --> carriers\n",
        "      elif about_inc[index].text==\"'s\" and count6==0:\n",
        "        about_inc=nlp(replace_with_error(about_inc,index,about_inc[index].text,'s'))\n",
        "        count6=1\n",
        "        \n",
        "\n",
        "      #7. Pronoun reference: they --> he/she\n",
        "      elif about_inc[index].text == 'they' and count7==0:\n",
        "        about_inc=nlp(replace_with_error(about_inc,index,about_inc[index].text,'he'))\n",
        "        count7=1\n",
        "        \n",
        "\n",
        "      #8. Run-on sentences,comma splices: The issue is highly [debatable, a → debatable. A] genetic risk\n",
        "      elif about_inc[index].text.islower() ==  False and about_inc[index].text!='“' and str(about_inc[index-1]) == '.' \\\n",
        "      and not str(about_inc).startswith(about_inc[index].text) and not str(about_inc).endswith('.') and about_inc[index].text!='I' and count8==0:\n",
        "        about_inc=nlp(replace_with_error(about_inc,index,about_inc[index-1].text+\" \"+about_inc[index].text,', '+about_inc[index].text.lower()))\n",
        "        count8=1\n",
        "        \n",
        "\n",
        "      #9. Incorrect adjective/adverb order: In conclusion, [personally I → I personally] feel that it\n",
        "      elif token.tag_ == 'RB' and count9==0 and not \"'\" in about_inc[index].text and len(about_inc[index].text)>=2 and not str(about_inc).startswith(about_inc[index].text):\n",
        "        punc=0\n",
        "        for p in string.punctuation:\n",
        "          if p not in about_inc[index].text or p not in about_inc[index-1].text:\n",
        "            punc=1\n",
        "            break\n",
        "        if(punc==0):\n",
        "          about_inc=nlp(replace_with_error(about_inc,index,about_inc[index-1].text+\" \"+about_inc[index].text,about_inc[index].text+\" \"+about_inc[index-1].text))\n",
        "          count9=1\n",
        "          \n",
        "\n",
        "      #10. Linking words/phrases: It is sometimes hard to find [out → out if] one has this disease.\n",
        "      elif token.tag_ == 'IN' and j!=0 and count10==0:\n",
        "        about_inc=nlp(replace_with_error(about_inc,index,about_inc[index].text+\" \",\"\"))\n",
        "        count10=1\n",
        "        \n",
        "      #11. Poor citation\n",
        "      elif (about_inc[index].text == '“') and count11==0:\n",
        "        temp=str(about_inc)\n",
        "        for word in temp.split():\n",
        "          if word.startswith('“'):\n",
        "            word1=word.replace('“','“ ')\n",
        "            temp=temp.replace(word,word1)\n",
        "          elif word.endswith('”'):\n",
        "            word1=word.replace('”',' ”')\n",
        "            temp=temp.replace(word,word1)\n",
        "        if '“' in temp.split() and j!=temp.split().index('“') and not temp.endswith('”'):\n",
        "          about_inc=nlp(replace_with_error(about_inc,index,about_inc[index].text,\"\"))\n",
        "          count11=1\n",
        "        \n",
        "    \n",
        "      #13. Parallelism: We must pay attention to this information and [assisting → assist] those\n",
        "      elif about_inc[index].text.endswith('ing') and about_inc[index-1].tag_ == 'CC' and about_inc[index].text!=token.lemma_ and about_inc[index].text[0].islower() and count13==0:\n",
        "        about_inc=nlp(replace_with_error(about_inc,index,about_inc[index].text,token.lemma_))\n",
        "        count13=1\n",
        "        \n",
        "\n",
        "      #14. Improper preposition forms: This essay will [discuss about → discuss] whether a carrier\n",
        "      elif 'discuss' in about_inc[index].text and count14==0:\n",
        "        about_inc=nlp(replace_with_error(about_inc,index,about_inc[index].text,about_inc[index].text+\" \"+'about'))\n",
        "        count14=1\n",
        "        \n",
        "      elif about_inc[index].text=='through' and count14==0:\n",
        "        about_inc=nlp(replace_with_error(about_inc,index,about_inc[index].text,'to'))\n",
        "        count14=1\n",
        "        \n",
        "      elif about_inc[index].text=='into' and count14==0:\n",
        "        about_inc=nlp(replace_with_error(about_inc,index,about_inc[index].text,'in'))\n",
        "        count14=1\n",
        "        \n",
        "      elif about_inc[index].text=='since' and count14==0:\n",
        "        about_inc=nlp(replace_with_error(about_inc,index,about_inc[index].text,'for'))\n",
        "        count14=1\n",
        "        \n",
        "\n",
        "      #15. Removing word contractions: I've-->I, we'll-->we, let's-->let\n",
        "      elif about_inc[index].text.endswith(words_ends_with_cont) and count15==0:\n",
        "        if about_inc[index].text == \"n't\":\n",
        "          about_inc=nlp(replace_with_error(about_inc,index,\"'t\",\"\"))\n",
        "        else:\n",
        "          about_inc=nlp(replace_with_error(about_inc,index,about_inc[index].text,\"\"))\n",
        "        count15=1\n",
        "        \n",
        "      \n",
        "      #16. upper to lower, lower to upper:\n",
        "      elif len(str(about_inc).split())<=2 and count16==0:\n",
        "        if about_inc[index].text.isupper():\n",
        "          about_inc=nlp(replace_with_error(about_inc,index,about_inc[index].text,about_inc[index].text.lower()))\n",
        "          count16=1\n",
        "          \n",
        "        else:\n",
        "          about_inc=nlp(replace_with_error(about_inc,index,about_inc[index].text,about_inc[index].text.upper()))\n",
        "          count16=1\n",
        "          \n",
        "\n",
        "      #12. Incorrect Spelling\n",
        "      elif len(about_inc[index].text)>2 and about_inc[index].tag_ != 'WP' and about_inc[index].tag_ != 'NNP' and \"'\" not in about_inc[index].text and \"'\" not in about_inc[index+1].text and count12==0:\n",
        "        if \"'\" not in about_inc[index-1].text or str(about_inc).startswith(about_inc[index].text):\n",
        "          #swapping letters for wrong spelling\n",
        "          c1=about_inc[index].text[1]\n",
        "          c2=about_inc[index].text[2]\n",
        "          c0=about_inc[index].text[0]\n",
        "          if c1!=c2:\n",
        "            d=about_inc[index].text.replace(c2,\"-\",1)\n",
        "            d=d.replace(c1,c2,1)\n",
        "            d=d.replace(d[2],c1,1)\n",
        "          else:\n",
        "            d=about_inc[index].text.replace(c1,c0,1)\n",
        "          about_inc=nlp(replace_with_error(about_inc,index,about_inc[index].text,d))\n",
        "          count12=1\n",
        "          \n",
        "\n",
        "      #skipping tokens to avoid errors in three adjacent tokens\n",
        "      if index>=len(about_inc):\n",
        "        skip=2\n",
        "      elif about_inc[index].text != about_doc[j].text:\n",
        "        skip=2\n",
        "\n",
        "    incorrect_lines.append(str(about_inc))\n",
        "\n",
        "  return incorrect_lines"
      ],
      "execution_count": null,
      "outputs": []
    },
    {
      "cell_type": "code",
      "metadata": {
        "id": "LPwgvcxFSK7s"
      },
      "source": [
        "nlp = spacy.load('en_core_web_sm')\n",
        "words_ends_with_cont=(\"'ve\",\"'ll\",\"'s\",\"'m\",\"'d\",\"'re\",\"'t\")\n",
        "def seperating_punct_2(lines):\n",
        "  final_lines=[]\n",
        "  for line in tqdm(lines):\n",
        "    line=line.replace('  ',' ')\n",
        "    g=[]\n",
        "    for token in nlp(line):\n",
        "      if token.text.startswith('-') and len(token.text)>1:\n",
        "        temp=token.text\n",
        "        temp=temp.replace('-','- ')\n",
        "        g.append(temp)\n",
        "      elif token.text.startswith(\"'\") and len(token.text)>1 and not token.text.endswith(words_ends_with_cont):\n",
        "        temp=token.text\n",
        "        temp=temp.replace(\"'\",\"' \")\n",
        "        g.append(temp)\n",
        "      else:\n",
        "        g.append(token.text)\n",
        "    out=' '.join(g)\n",
        "    final_lines.append(out)\n",
        "    \n",
        "  return final_lines"
      ],
      "execution_count": null,
      "outputs": []
    },
    {
      "cell_type": "code",
      "metadata": {
        "id": "blXjg5p3SBH7",
        "outputId": "43301e1d-af25-4476-af8f-984439fd023c",
        "colab": {
          "base_uri": "https://localhost:8080/",
          "height": 66,
          "referenced_widgets": [
            "6771cc9c838b4b6ab9edbfb2ed4d6e4e",
            "5e393e85cf6a434897ab982840067095",
            "a5672acd4d9e42b89ca0c2759f1995f0",
            "50ecdf2fb0da40f9b0268f02e18fd549",
            "0f954fc5099e4ecf8bdac87ffeca57f4",
            "a4f5c03f170d4ac98f818c640f6d4751",
            "ea879a74fc154570a31cda05860126c9",
            "c1a2f6262fed4aeb9b23e423bab48e19"
          ]
        }
      },
      "source": [
        "train_lines=get_incorrect_lines(train['lines'])"
      ],
      "execution_count": null,
      "outputs": [
        {
          "output_type": "display_data",
          "data": {
            "application/vnd.jupyter.widget-view+json": {
              "model_id": "6771cc9c838b4b6ab9edbfb2ed4d6e4e",
              "version_minor": 0,
              "version_major": 2
            },
            "text/plain": [
              "HBox(children=(FloatProgress(value=0.0, max=30960.0), HTML(value='')))"
            ]
          },
          "metadata": {
            "tags": []
          }
        },
        {
          "output_type": "stream",
          "text": [
            "\n"
          ],
          "name": "stdout"
        }
      ]
    },
    {
      "cell_type": "code",
      "metadata": {
        "id": "RAc7A5RcSQO1",
        "outputId": "f0885c0d-049f-4ca9-fd04-f49e21c77e08",
        "colab": {
          "base_uri": "https://localhost:8080/",
          "height": 115,
          "referenced_widgets": [
            "5fd4b813ca634460b80ff61f7a4b4fab",
            "3b5b46f458224ae99eae00501e49568a",
            "965f5d4befd9499d93842fb3755cd536",
            "97e975fe1899435bb1e182460c693885",
            "61ac96a05ced4152a3e11211c1d0c880",
            "a0529539fd714bce9139687911a469fb",
            "9750c5195b114367bf5a691368b8bdef",
            "1276c2ca4a684f8580edaa032fd7c381",
            "62ce25b5b66746dbb683d4636b7ca193",
            "9c630332dfdf4b4dbc06361d75aee298",
            "542b4d057eb84b9daf1227b94c2a4679",
            "fd08f346dc1f4b9cb1253497068696df",
            "46da028435bf40a2b861bbe76740840c",
            "82b32f3068a547dbb5c9bb73eeb494a6",
            "5b86a2ac241044669c07f6c0f9c1e44e",
            "146c812057bf4b478a1fb3c254507cec"
          ]
        }
      },
      "source": [
        "train['incorrect_lines']=seperating_punct_2(train_lines)\n",
        "train['lines']=seperating_punct_2(train['lines'])"
      ],
      "execution_count": null,
      "outputs": [
        {
          "output_type": "display_data",
          "data": {
            "application/vnd.jupyter.widget-view+json": {
              "model_id": "5fd4b813ca634460b80ff61f7a4b4fab",
              "version_minor": 0,
              "version_major": 2
            },
            "text/plain": [
              "HBox(children=(FloatProgress(value=0.0, max=30960.0), HTML(value='')))"
            ]
          },
          "metadata": {
            "tags": []
          }
        },
        {
          "output_type": "stream",
          "text": [
            "\n"
          ],
          "name": "stdout"
        },
        {
          "output_type": "display_data",
          "data": {
            "application/vnd.jupyter.widget-view+json": {
              "model_id": "62ce25b5b66746dbb683d4636b7ca193",
              "version_minor": 0,
              "version_major": 2
            },
            "text/plain": [
              "HBox(children=(FloatProgress(value=0.0, max=30960.0), HTML(value='')))"
            ]
          },
          "metadata": {
            "tags": []
          }
        },
        {
          "output_type": "stream",
          "text": [
            "\n"
          ],
          "name": "stdout"
        }
      ]
    },
    {
      "cell_type": "code",
      "metadata": {
        "id": "N2T2KOydSQSK"
      },
      "source": [
        "indices=[]\n",
        "for i,val in enumerate(train['lines']==train['incorrect_lines']):\n",
        "  if(val==True):\n",
        "    indices.append(i)"
      ],
      "execution_count": null,
      "outputs": []
    },
    {
      "cell_type": "code",
      "metadata": {
        "id": "u-V-wfBKSQVf",
        "outputId": "a2f63c11-22ea-40a7-df51-05c004288649",
        "colab": {
          "base_uri": "https://localhost:8080/",
          "height": 34
        }
      },
      "source": [
        "len(indices)"
      ],
      "execution_count": null,
      "outputs": [
        {
          "output_type": "execute_result",
          "data": {
            "text/plain": [
              "91"
            ]
          },
          "metadata": {
            "tags": []
          },
          "execution_count": 48
        }
      ]
    },
    {
      "cell_type": "code",
      "metadata": {
        "id": "oQ9zM8mKSQYn"
      },
      "source": [
        "train=train.drop(train.index[indices])"
      ],
      "execution_count": null,
      "outputs": []
    },
    {
      "cell_type": "code",
      "metadata": {
        "id": "nMzb2P49SQb5",
        "outputId": "5d48a168-9156-4578-ecce-2ea8a57016cf",
        "colab": {
          "base_uri": "https://localhost:8080/",
          "height": 204
        }
      },
      "source": [
        "train.head()"
      ],
      "execution_count": null,
      "outputs": [
        {
          "output_type": "execute_result",
          "data": {
            "text/html": [
              "<div>\n",
              "<style scoped>\n",
              "    .dataframe tbody tr th:only-of-type {\n",
              "        vertical-align: middle;\n",
              "    }\n",
              "\n",
              "    .dataframe tbody tr th {\n",
              "        vertical-align: top;\n",
              "    }\n",
              "\n",
              "    .dataframe thead th {\n",
              "        text-align: right;\n",
              "    }\n",
              "</style>\n",
              "<table border=\"1\" class=\"dataframe\">\n",
              "  <thead>\n",
              "    <tr style=\"text-align: right;\">\n",
              "      <th></th>\n",
              "      <th>lines</th>\n",
              "      <th>incorrect_lines</th>\n",
              "    </tr>\n",
              "  </thead>\n",
              "  <tbody>\n",
              "    <tr>\n",
              "      <th>3135</th>\n",
              "      <td>“ Oh yeah , you 're right , ” said Ron , teari...</td>\n",
              "      <td>“ Oh yaeh , you 're right , ” say Ron , tearin...</td>\n",
              "    </tr>\n",
              "    <tr>\n",
              "      <th>17240</th>\n",
              "      <td>As there was no proof that the Riddles had bee...</td>\n",
              "      <td>As tehre was no proof the Riddles have been mu...</td>\n",
              "    </tr>\n",
              "    <tr>\n",
              "      <th>41599</th>\n",
              "      <td>The head glowed blue and trembled noisily agai...</td>\n",
              "      <td>Teh head glowed blue and tremble noisily again...</td>\n",
              "    </tr>\n",
              "    <tr>\n",
              "      <th>9739</th>\n",
              "      <td>“ You wo n't be needing it , ” he said .</td>\n",
              "      <td>“ Yuo wo n't be needing it , ” he say .</td>\n",
              "    </tr>\n",
              "    <tr>\n",
              "      <th>11302</th>\n",
              "      <td>“ Harry , swear to me you wo n't go looking fo...</td>\n",
              "      <td>“ Harry , sewar to me you won go looking Blac , ”</td>\n",
              "    </tr>\n",
              "  </tbody>\n",
              "</table>\n",
              "</div>"
            ],
            "text/plain": [
              "                                                   lines                                    incorrect_lines\n",
              "3135   “ Oh yeah , you 're right , ” said Ron , teari...  “ Oh yaeh , you 're right , ” say Ron , tearin...\n",
              "17240  As there was no proof that the Riddles had bee...  As tehre was no proof the Riddles have been mu...\n",
              "41599  The head glowed blue and trembled noisily agai...  Teh head glowed blue and tremble noisily again...\n",
              "9739            “ You wo n't be needing it , ” he said .            “ Yuo wo n't be needing it , ” he say .\n",
              "11302  “ Harry , swear to me you wo n't go looking fo...  “ Harry , sewar to me you won go looking Blac , ”"
            ]
          },
          "metadata": {
            "tags": []
          },
          "execution_count": 50
        }
      ]
    },
    {
      "cell_type": "code",
      "metadata": {
        "id": "kUFC0uG7ay7p",
        "outputId": "13d6b4e6-1183-41a0-e254-76f498ed664b",
        "colab": {
          "base_uri": "https://localhost:8080/",
          "height": 34
        }
      },
      "source": [
        "train.shape"
      ],
      "execution_count": null,
      "outputs": [
        {
          "output_type": "execute_result",
          "data": {
            "text/plain": [
              "(30869, 2)"
            ]
          },
          "metadata": {
            "tags": []
          },
          "execution_count": 52
        }
      ]
    },
    {
      "cell_type": "code",
      "metadata": {
        "id": "GiCXnkhSRt1-",
        "outputId": "35f28391-652f-4803-e2b8-329401a51b67",
        "colab": {
          "base_uri": "https://localhost:8080/",
          "height": 66,
          "referenced_widgets": [
            "c681d4c60083470ca87b554f36f8dfd4",
            "6d63c07961e54d9b9f51a4f45b9efb9a",
            "0c3386767ada4d5bbe470564ca6fdff7",
            "62087982de8447c792a78c63aef160f5",
            "1240db2e4f674cbc8976d1a81b1f34bf",
            "3b3054d9c8704be0aca81900a8259332",
            "8872e61ad3e149d1a5fb65bd2d8842c9",
            "aa43ca6eeebd47aa90203cb6d88a20dc"
          ]
        }
      },
      "source": [
        "cv_lines=get_incorrect_lines(cv['lines'])"
      ],
      "execution_count": null,
      "outputs": [
        {
          "output_type": "display_data",
          "data": {
            "application/vnd.jupyter.widget-view+json": {
              "model_id": "c681d4c60083470ca87b554f36f8dfd4",
              "version_minor": 0,
              "version_major": 2
            },
            "text/plain": [
              "HBox(children=(FloatProgress(value=0.0, max=7740.0), HTML(value='')))"
            ]
          },
          "metadata": {
            "tags": []
          }
        },
        {
          "output_type": "stream",
          "text": [
            "\n"
          ],
          "name": "stdout"
        }
      ]
    },
    {
      "cell_type": "code",
      "metadata": {
        "id": "p1zeXw7hVwTr",
        "outputId": "3d469eac-3d8e-4d71-aa28-20aaa255653d",
        "colab": {
          "base_uri": "https://localhost:8080/",
          "height": 115,
          "referenced_widgets": [
            "6b1fee578bb84c9fa619f6a14b4a821f",
            "627ecac3ce9f4153bc2971ee7956d40c",
            "3562339170294278b63f151adc9a9b5a",
            "166d61ed0e8f4260a8255eb08abdf0ac",
            "777479d55c8b4de88960db9a948061dd",
            "435953602bad42c5999b06a62a314d71",
            "dc44df6c561d45f79749e7726fd2ba78",
            "251df0446a114c968989dd95356c2c8f",
            "6739f2ab85ab4949948441b60f77c18b",
            "ff61f68ac3454283bfe31e387f859522",
            "aff03949729d4402b55a350198a92e5c",
            "3f3fe14c7d864b7c8279e9c96323bec2",
            "1abbe661afee4e949e711b7c22d17a1f",
            "17ffe0ff03f046469496ed3a0182d356",
            "8e1a0c2f1d274190bc174f912c5c878a",
            "28dda985caec4f04810970b73d5b55e8"
          ]
        }
      },
      "source": [
        "cv['incorrect_lines']=seperating_punct_2(cv_lines)\n",
        "cv['lines']=seperating_punct_2(cv['lines'])"
      ],
      "execution_count": null,
      "outputs": [
        {
          "output_type": "display_data",
          "data": {
            "application/vnd.jupyter.widget-view+json": {
              "model_id": "6b1fee578bb84c9fa619f6a14b4a821f",
              "version_minor": 0,
              "version_major": 2
            },
            "text/plain": [
              "HBox(children=(FloatProgress(value=0.0, max=7740.0), HTML(value='')))"
            ]
          },
          "metadata": {
            "tags": []
          }
        },
        {
          "output_type": "stream",
          "text": [
            "\n"
          ],
          "name": "stdout"
        },
        {
          "output_type": "display_data",
          "data": {
            "application/vnd.jupyter.widget-view+json": {
              "model_id": "6739f2ab85ab4949948441b60f77c18b",
              "version_minor": 0,
              "version_major": 2
            },
            "text/plain": [
              "HBox(children=(FloatProgress(value=0.0, max=7740.0), HTML(value='')))"
            ]
          },
          "metadata": {
            "tags": []
          }
        },
        {
          "output_type": "stream",
          "text": [
            "\n"
          ],
          "name": "stdout"
        }
      ]
    },
    {
      "cell_type": "code",
      "metadata": {
        "id": "ecm2MqqjVwWq"
      },
      "source": [
        "indices=[]\n",
        "for i,val in enumerate(cv['lines']==cv['incorrect_lines']):\n",
        "  if(val==True):\n",
        "    indices.append(i)"
      ],
      "execution_count": null,
      "outputs": []
    },
    {
      "cell_type": "code",
      "metadata": {
        "id": "yDLuICxvVwaL",
        "outputId": "69430135-e14d-495d-ad17-19ee7f4d26a0",
        "colab": {
          "base_uri": "https://localhost:8080/",
          "height": 34
        }
      },
      "source": [
        "len(indices)"
      ],
      "execution_count": null,
      "outputs": [
        {
          "output_type": "execute_result",
          "data": {
            "text/plain": [
              "19"
            ]
          },
          "metadata": {
            "tags": []
          },
          "execution_count": 56
        }
      ]
    },
    {
      "cell_type": "code",
      "metadata": {
        "id": "TtZUWOm4Vwc8"
      },
      "source": [
        "cv=cv.drop(cv.index[indices])"
      ],
      "execution_count": null,
      "outputs": []
    },
    {
      "cell_type": "code",
      "metadata": {
        "id": "e-J3Eo30Vwf5",
        "outputId": "5604d509-b347-4b9e-dd33-ff1a5371322d",
        "colab": {
          "base_uri": "https://localhost:8080/",
          "height": 204
        }
      },
      "source": [
        "cv.head()"
      ],
      "execution_count": null,
      "outputs": [
        {
          "output_type": "execute_result",
          "data": {
            "text/html": [
              "<div>\n",
              "<style scoped>\n",
              "    .dataframe tbody tr th:only-of-type {\n",
              "        vertical-align: middle;\n",
              "    }\n",
              "\n",
              "    .dataframe tbody tr th {\n",
              "        vertical-align: top;\n",
              "    }\n",
              "\n",
              "    .dataframe thead th {\n",
              "        text-align: right;\n",
              "    }\n",
              "</style>\n",
              "<table border=\"1\" class=\"dataframe\">\n",
              "  <thead>\n",
              "    <tr style=\"text-align: right;\">\n",
              "      <th></th>\n",
              "      <th>lines</th>\n",
              "      <th>incorrect_lines</th>\n",
              "    </tr>\n",
              "  </thead>\n",
              "  <tbody>\n",
              "    <tr>\n",
              "      <th>17071</th>\n",
              "      <td>It took a moment for Harry to realize what Dum...</td>\n",
              "      <td>It take a moment Harry to raelize what Dumbled...</td>\n",
              "    </tr>\n",
              "    <tr>\n",
              "      <th>21655</th>\n",
              "      <td>Harry knocked on the door and entered .</td>\n",
              "      <td>Harry knock on the ddor and entered .</td>\n",
              "    </tr>\n",
              "    <tr>\n",
              "      <th>31864</th>\n",
              "      <td>“ Still , it wo n't hurt to have some new bloo...</td>\n",
              "      <td>“ Still , it won hurt to hvae some new blood ,...</td>\n",
              "    </tr>\n",
              "    <tr>\n",
              "      <th>29234</th>\n",
              "      <td>“ Where are we ? ”</td>\n",
              "      <td>“ Wehre are we ? ”</td>\n",
              "    </tr>\n",
              "    <tr>\n",
              "      <th>403</th>\n",
              "      <td>“ It was only a dream . ”</td>\n",
              "      <td>“ It be only a deram . ”</td>\n",
              "    </tr>\n",
              "  </tbody>\n",
              "</table>\n",
              "</div>"
            ],
            "text/plain": [
              "                                                   lines                                    incorrect_lines\n",
              "17071  It took a moment for Harry to realize what Dum...  It take a moment Harry to raelize what Dumbled...\n",
              "21655            Harry knocked on the door and entered .              Harry knock on the ddor and entered .\n",
              "31864  “ Still , it wo n't hurt to have some new bloo...  “ Still , it won hurt to hvae some new blood ,...\n",
              "29234                                 “ Where are we ? ”                                 “ Wehre are we ? ”\n",
              "403                            “ It was only a dream . ”                           “ It be only a deram . ”"
            ]
          },
          "metadata": {
            "tags": []
          },
          "execution_count": 58
        }
      ]
    },
    {
      "cell_type": "code",
      "metadata": {
        "id": "nfr2iH3idBzQ",
        "outputId": "9df17ba1-ef0a-4759-a797-93e12b6288f2",
        "colab": {
          "base_uri": "https://localhost:8080/",
          "height": 34
        }
      },
      "source": [
        "cv.shape"
      ],
      "execution_count": null,
      "outputs": [
        {
          "output_type": "execute_result",
          "data": {
            "text/plain": [
              "(7721, 2)"
            ]
          },
          "metadata": {
            "tags": []
          },
          "execution_count": 59
        }
      ]
    },
    {
      "cell_type": "code",
      "metadata": {
        "id": "y2jhLMGTRt48",
        "outputId": "0f4db9be-dc11-44df-8c92-676febc5bee0",
        "colab": {
          "base_uri": "https://localhost:8080/",
          "height": 66,
          "referenced_widgets": [
            "07d90b39fd994607a3cebb812ac8b73f",
            "433828d28b634381bd054835e05c323d",
            "6d4ba3b181a24cd28f43e7294db330e2",
            "11943c82c83441b99661a6b4c7b4aa04",
            "ff610f3dd388440783578d0ed4caf7c5",
            "c1df995133fe4a37a87c9754ac3f45a1",
            "5fc0e2f78bc14de6bd409c412d1f172b",
            "33114019a6b54117a4f74dce200f07eb"
          ]
        }
      },
      "source": [
        "test_lines=get_incorrect_lines(test['lines'])"
      ],
      "execution_count": null,
      "outputs": [
        {
          "output_type": "display_data",
          "data": {
            "application/vnd.jupyter.widget-view+json": {
              "model_id": "07d90b39fd994607a3cebb812ac8b73f",
              "version_minor": 0,
              "version_major": 2
            },
            "text/plain": [
              "HBox(children=(FloatProgress(value=0.0, max=9676.0), HTML(value='')))"
            ]
          },
          "metadata": {
            "tags": []
          }
        },
        {
          "output_type": "stream",
          "text": [
            "\n"
          ],
          "name": "stdout"
        }
      ]
    },
    {
      "cell_type": "code",
      "metadata": {
        "id": "Raw00GSUV5Uq",
        "outputId": "23ecb011-83a9-4e64-d51c-17b66d6f940a",
        "colab": {
          "base_uri": "https://localhost:8080/",
          "height": 115,
          "referenced_widgets": [
            "277e772c08ea47aeb8dde8151e631b4d",
            "b1d6c0095267462db7fcd1a1fe75b6b2",
            "a9b00b9f6a69468593757e3bcfc3aa0f",
            "1d9caa82937640588a311b60c13b5a87",
            "d956cef4368745bfba40bb749274c84c",
            "39142de396ac4bde8d85ae10a4708eaa",
            "731f3f0d06794ed9b13ab4a368eb8f97",
            "b42b1190f53e4208a802ecc253c179ba",
            "f511ee8f4d254798b1b177a44add780c",
            "0c6aed498e134488be0e586c597b7b9c",
            "757e5f1d501b413280765c99134ac0df",
            "8ee179767b6047e882cac3459acfab49",
            "a36c64a207ef49e28664967255b77efb",
            "dd2eaa144ccb4a3aa42412f4bbefaf48",
            "d7f9edb6c93048a8bd9b4f8495536264",
            "9ec4bda6df8148fca93b9f8e2da38f85"
          ]
        }
      },
      "source": [
        "test['incorrect_lines']=seperating_punct_2(test_lines)\n",
        "test['lines']=seperating_punct_2(test['lines'])"
      ],
      "execution_count": null,
      "outputs": [
        {
          "output_type": "display_data",
          "data": {
            "application/vnd.jupyter.widget-view+json": {
              "model_id": "277e772c08ea47aeb8dde8151e631b4d",
              "version_minor": 0,
              "version_major": 2
            },
            "text/plain": [
              "HBox(children=(FloatProgress(value=0.0, max=9676.0), HTML(value='')))"
            ]
          },
          "metadata": {
            "tags": []
          }
        },
        {
          "output_type": "stream",
          "text": [
            "\n"
          ],
          "name": "stdout"
        },
        {
          "output_type": "display_data",
          "data": {
            "application/vnd.jupyter.widget-view+json": {
              "model_id": "f511ee8f4d254798b1b177a44add780c",
              "version_minor": 0,
              "version_major": 2
            },
            "text/plain": [
              "HBox(children=(FloatProgress(value=0.0, max=9676.0), HTML(value='')))"
            ]
          },
          "metadata": {
            "tags": []
          }
        },
        {
          "output_type": "stream",
          "text": [
            "\n"
          ],
          "name": "stdout"
        }
      ]
    },
    {
      "cell_type": "code",
      "metadata": {
        "id": "lxIdskJZV5Xm"
      },
      "source": [
        "indices=[]\n",
        "for i,val in enumerate(test['lines']==test['incorrect_lines']):\n",
        "  if(val==True):\n",
        "    indices.append(i)"
      ],
      "execution_count": null,
      "outputs": []
    },
    {
      "cell_type": "code",
      "metadata": {
        "id": "3oNL0DzPV5a6",
        "outputId": "c8ec5dac-7ed9-4191-a605-a024dd51e947",
        "colab": {
          "base_uri": "https://localhost:8080/",
          "height": 34
        }
      },
      "source": [
        "len(indices)"
      ],
      "execution_count": null,
      "outputs": [
        {
          "output_type": "execute_result",
          "data": {
            "text/plain": [
              "19"
            ]
          },
          "metadata": {
            "tags": []
          },
          "execution_count": 63
        }
      ]
    },
    {
      "cell_type": "code",
      "metadata": {
        "id": "o8RvitBnWC5J"
      },
      "source": [
        "test=test.drop(test.index[indices])"
      ],
      "execution_count": null,
      "outputs": []
    },
    {
      "cell_type": "code",
      "metadata": {
        "id": "vZVhQR0RWC85",
        "outputId": "cb44ab10-d0f9-4247-9ae8-ccab9798af70",
        "colab": {
          "base_uri": "https://localhost:8080/",
          "height": 204
        }
      },
      "source": [
        "test.head()"
      ],
      "execution_count": null,
      "outputs": [
        {
          "output_type": "execute_result",
          "data": {
            "text/html": [
              "<div>\n",
              "<style scoped>\n",
              "    .dataframe tbody tr th:only-of-type {\n",
              "        vertical-align: middle;\n",
              "    }\n",
              "\n",
              "    .dataframe tbody tr th {\n",
              "        vertical-align: top;\n",
              "    }\n",
              "\n",
              "    .dataframe thead th {\n",
              "        text-align: right;\n",
              "    }\n",
              "</style>\n",
              "<table border=\"1\" class=\"dataframe\">\n",
              "  <thead>\n",
              "    <tr style=\"text-align: right;\">\n",
              "      <th></th>\n",
              "      <th>lines</th>\n",
              "      <th>incorrect_lines</th>\n",
              "    </tr>\n",
              "  </thead>\n",
              "  <tbody>\n",
              "    <tr>\n",
              "      <th>47215</th>\n",
              "      <td>Harry said nothing .</td>\n",
              "      <td>Harry say nothing .</td>\n",
              "    </tr>\n",
              "    <tr>\n",
              "      <th>6467</th>\n",
              "      <td>“ What 've we got this afternoon ? ” said Harr...</td>\n",
              "      <td>“ What we got tihs afternoon ? ” say Harry , h...</td>\n",
              "    </tr>\n",
              "    <tr>\n",
              "      <th>43348</th>\n",
              "      <td>“ Oh yes you did . You showed Horace exactly h...</td>\n",
              "      <td>“ Oh yse you did , you showed Horace exactly h...</td>\n",
              "    </tr>\n",
              "    <tr>\n",
              "      <th>48236</th>\n",
              "      <td>He had the solution at last : There was a way ...</td>\n",
              "      <td>He have the solution last : Tehre was a way to...</td>\n",
              "    </tr>\n",
              "    <tr>\n",
              "      <th>15302</th>\n",
              "      <td>“ Wan ' some tea ? ” he said .</td>\n",
              "      <td>“ Wan ' some tae ? ” he say .</td>\n",
              "    </tr>\n",
              "  </tbody>\n",
              "</table>\n",
              "</div>"
            ],
            "text/plain": [
              "                                                   lines                                    incorrect_lines\n",
              "47215                               Harry said nothing .                                Harry say nothing .\n",
              "6467   “ What 've we got this afternoon ? ” said Harr...  “ What we got tihs afternoon ? ” say Harry , h...\n",
              "43348  “ Oh yes you did . You showed Horace exactly h...  “ Oh yse you did , you showed Horace exactly h...\n",
              "48236  He had the solution at last : There was a way ...  He have the solution last : Tehre was a way to...\n",
              "15302                     “ Wan ' some tea ? ” he said .                      “ Wan ' some tae ? ” he say ."
            ]
          },
          "metadata": {
            "tags": []
          },
          "execution_count": 65
        }
      ]
    },
    {
      "cell_type": "code",
      "metadata": {
        "id": "b3mgsjUoWF-R"
      },
      "source": [
        "train.to_csv('train.csv',index=False)\n",
        "cv.to_csv('cv.csv',index=False)\n",
        "test.to_csv('test.csv',index=False)"
      ],
      "execution_count": null,
      "outputs": []
    },
    {
      "cell_type": "code",
      "metadata": {
        "id": "aygyJbi4EPvs"
      },
      "source": [
        "train=pd.read_csv('train.csv')\n",
        "cv=pd.read_csv('cv.csv')\n",
        "test=pd.read_csv('test.csv')"
      ],
      "execution_count": null,
      "outputs": []
    }
  ]
}